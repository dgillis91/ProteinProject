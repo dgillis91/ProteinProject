{
 "cells": [
  {
   "cell_type": "code",
   "execution_count": 1,
   "metadata": {},
   "outputs": [],
   "source": [
    "import os\n",
    "import random\n",
    "from typing import List\n",
    "\n",
    "\n",
    "import numpy as np\n",
    "import tensorflow as tf\n",
    "\n",
    "tf.enable_eager_execution()\n",
    "config = tf.ConfigProto()\n",
    "config.gpu_options.allow_growth = True\n",
    "session = tf.InteractiveSession(config=config)\n",
    "\n",
    "from tensorflow.keras.preprocessing.sequence import pad_sequences\n",
    "from tensorflow.keras.preprocessing.text import Tokenizer"
   ]
  },
  {
   "cell_type": "code",
   "execution_count": 2,
   "metadata": {},
   "outputs": [],
   "source": [
    "def sequence_list_from_file(file, is_dev_file=True):\n",
    "    '''\n",
    "    Return a list of sequences from a file.\n",
    "    @file - Either a string or a keras file obj.\n",
    "    @is_dev_file - Whether to read the dev file.\n",
    "    '''\n",
    "    if is_dev_file:\n",
    "        return get_sequence_list_from_dev_file(file)\n",
    "    else:\n",
    "        return get_sequence_list_from_train_file(file)\n",
    "    \n",
    "    \n",
    "def get_sequence_list_from_dev_file(file):\n",
    "    with open(file, 'r') as sequence_file:\n",
    "        sequence_text = sequence_file.read() \\\n",
    "                                     .replace('-', '')\n",
    "        return sequences.split('\\n')\n",
    "\n",
    "    \n",
    "def get_sequence_list_from_train_file(file):\n",
    "    sequences = list()\n",
    "    with open(file, 'r') as sequence_file:\n",
    "        for iter_, line in enumerate(sequence_file):\n",
    "            if (iter_ + 1) % 2 == 0:\n",
    "                sequences.append(line.strip())\n",
    "    return sequences"
   ]
  },
  {
   "cell_type": "code",
   "execution_count": 3,
   "metadata": {},
   "outputs": [
    {
     "name": "stdout",
     "output_type": "stream",
     "text": [
      "[+] Train File Path: /home/das-hund/PycharmProjects/autoencoders/data/pdb_seqres.txt\n",
      "[+] Dev File Path: https://raw.githubusercontent.com/badriadhikari/DEEPCON/master/deepcon-covariance/test/16pkA0.aln\n"
     ]
    }
   ],
   "source": [
    "repo = 'https://raw.githubusercontent.com/badriadhikari'\n",
    "remote_data_path = 'DEEPCON/master/deepcon-covariance/test'\n",
    "dev_file = '16pkA0.aln'\n",
    "\n",
    "local_data_path = '/home/das-hund/PycharmProjects/autoencoders/data'\n",
    "train_file = 'pdb_seqres.txt'\n",
    "\n",
    "dev_file_path = os.path.join(\n",
    "    repo, remote_data_path, dev_file\n",
    ")\n",
    "train_file_path = os.path.join(\n",
    "    local_data_path, train_file\n",
    ")\n",
    "\n",
    "print(f'[+] Train File Path: {train_file_path}')\n",
    "print(f'[+] Dev File Path: {dev_file_path}')"
   ]
  },
  {
   "cell_type": "code",
   "execution_count": 4,
   "metadata": {},
   "outputs": [
    {
     "name": "stdout",
     "output_type": "stream",
     "text": [
      "[+] First 500 acids:\n",
      "\tPKRGKKGAVAEDGDELRTEPEAKKSKTAAKKNDKEAAGEGPALYEDPPDQKTSPSGKPATLKICSWNVDGLRAWIKKKGLDWVKEEAPDILCLQETKCSENKLPAELQELPGLSHQYWSAPSDKEGYSGVGLLSRQCPLKVSYGIGDEEHDQEGRVIVAEFDSFVLVTAYVPNAGRGLVRLEYRQRWDEAFRKFLKGLASRKPLVLCGDLNVAHEEIDLRNPKGNKKNAGFTPQERQGFGELLQAVPLADSFRHLYPNTPYAYTFWTYMMNARSKNVGWRLDYFLLSHSLLPALCDSKIRSKALGSDHCPITLYLAL.XXXXXXXX.PIVQNLQGQMVHQAISPRTLNAWVKVVEEKAFSPEVIPMFSALSEGATPQDLNTMLNTVGGHQAAMQMLKETINEEAAEWDRLHPVHAGPIEPGQMREPRGSDIAGTTSTLQEQIGWMTHNPPIPVGEIYKRWIILGLNKIVRMYSPTSILDIRQGPKEPFRDYVDRFYKTLR\n"
     ]
    }
   ],
   "source": [
    "IS_DEV_FILE = False\n",
    "SEQUENCE_COUNT_LIMIT = 180000\n",
    "PRINT_ACID_COUNT = 500\n",
    "\n",
    "if IS_DEV_FILE:\n",
    "    file_path = dev_file_path\n",
    "else:\n",
    "    file_path = train_file_path\n",
    "\n",
    "sequence_list = sequence_list_from_file(file=file_path, is_dev_file=IS_DEV_FILE)\n",
    "random.shuffle(sequence_list)\n",
    "\n",
    "if SEQUENCE_COUNT_LIMIT is not None:\n",
    "    sequence_list = sequence_list[:SEQUENCE_COUNT_LIMIT]\n",
    "    \n",
    "sequences = '.'.join(sequence_list)\n",
    "\n",
    "print(f'[+] First {PRINT_ACID_COUNT} acids:\\n\\t{sequences[:PRINT_ACID_COUNT]}')"
   ]
  },
  {
   "cell_type": "code",
   "execution_count": 5,
   "metadata": {},
   "outputs": [
    {
     "name": "stdout",
     "output_type": "stream",
     "text": [
      "[+] 25 Distinct Amino Acids in /home/das-hund/PycharmProjects/autoencoders/data/pdb_seqres.txt\n"
     ]
    }
   ],
   "source": [
    "distinct_amino_acids = sorted(set(sequences))\n",
    "distinct_amino_acid_count = len(distinct_amino_acids)\n",
    "print(\n",
    "  f'[+] {distinct_amino_acid_count - 1} Distinct Amino Acids in {file_path}'\n",
    ")"
   ]
  },
  {
   "cell_type": "code",
   "execution_count": 6,
   "metadata": {},
   "outputs": [],
   "source": [
    "amino_acid_to_index = {\n",
    "  amino_acid: index \n",
    "  for index, amino_acid in enumerate(distinct_amino_acids)\n",
    "}\n",
    "index_to_amino_acid = np.array(distinct_amino_acids)"
   ]
  },
  {
   "cell_type": "code",
   "execution_count": 7,
   "metadata": {},
   "outputs": [
    {
     "name": "stdout",
     "output_type": "stream",
     "text": [
      "[+] Amino Acid to Index:\n",
      "{\n",
      "\t.: 0\n",
      "\tA: 1\n",
      "\tB: 2\n",
      "\tC: 3\n",
      "\tD: 4\n",
      "\tE: 5\n",
      "\tF: 6\n",
      "\tG: 7\n",
      "\tH: 8\n",
      "\tI: 9\n",
      "\tK: 10\n",
      "\tL: 11\n",
      "\tM: 12\n",
      "\tN: 13\n",
      "\tO: 14\n",
      "\tP: 15\n",
      "\tQ: 16\n",
      "\tR: 17\n",
      "\tS: 18\n",
      "\tT: 19\n",
      "\tU: 20\n",
      "\tV: 21\n",
      "\tW: 22\n",
      "\tX: 23\n",
      "\tY: 24\n",
      "\tZ: 25\n",
      "}\n",
      "[+] Index to Amino Acids:\n",
      "['.' 'A' 'B' 'C' 'D' 'E' 'F' 'G' 'H' 'I' 'K' 'L' 'M' 'N' 'O' 'P' 'Q' 'R'\n",
      " 'S' 'T' 'U' 'V' 'W' 'X' 'Y' 'Z']\n"
     ]
    }
   ],
   "source": [
    "def pretty_print_dict(d: dict, length=0):\n",
    "    print('{')\n",
    "    for k, v in d.items():\n",
    "        print(f'\\t{k}: {v}')\n",
    "    print('}')\n",
    "\n",
    "print('[+] Amino Acid to Index:')\n",
    "pretty_print_dict(amino_acid_to_index)\n",
    "print(f'[+] Index to Amino Acids:\\n{index_to_amino_acid}')"
   ]
  },
  {
   "cell_type": "code",
   "execution_count": 8,
   "metadata": {},
   "outputs": [
    {
     "name": "stdout",
     "output_type": "stream",
     "text": [
      "[+] PKRGKKGAVAEDGDELRTEP mapped to int [15 10 17  7 10 10  7  1 21  1  5  4  7  4  5 11 17 19  5 15]\n"
     ]
    }
   ],
   "source": [
    "sequences_as_int = np.array(\n",
    "  [amino_acid_to_index[amino_acid] for amino_acid in sequences]\n",
    ")\n",
    "print(f'[+] {sequences[:20]} mapped to int {sequences_as_int[:20]}')"
   ]
  },
  {
   "cell_type": "code",
   "execution_count": 9,
   "metadata": {},
   "outputs": [
    {
     "data": {
      "text/plain": [
       "(45836450,)"
      ]
     },
     "execution_count": 9,
     "metadata": {},
     "output_type": "execute_result"
    }
   ],
   "source": [
    "sequences_as_int.shape"
   ]
  },
  {
   "cell_type": "code",
   "execution_count": 10,
   "metadata": {},
   "outputs": [
    {
     "name": "stdout",
     "output_type": "stream",
     "text": [
      "First 5 Acids:\n",
      "WARNING:tensorflow:From /home/das-hund/.conda/envs/notebook/lib/python3.7/site-packages/tensorflow/python/data/ops/iterator_ops.py:532: colocate_with (from tensorflow.python.framework.ops) is deprecated and will be removed in a future version.\n",
      "Instructions for updating:\n",
      "Colocations handled automatically by placer.\n",
      "P\n",
      "K\n",
      "R\n",
      "G\n",
      "K\n"
     ]
    }
   ],
   "source": [
    "SEQUENCE_LENGTH = 100\n",
    "examples_per_epoch = len(sequences_as_int) // SEQUENCE_LENGTH\n",
    "\n",
    "sequence_dataset = tf.data.Dataset.from_tensor_slices(sequences_as_int)\n",
    "\n",
    "print('First 5 Acids:')\n",
    "for i in sequence_dataset.take(5):\n",
    "    print(index_to_amino_acid[i.numpy()])"
   ]
  },
  {
   "cell_type": "code",
   "execution_count": 11,
   "metadata": {},
   "outputs": [
    {
     "name": "stdout",
     "output_type": "stream",
     "text": [
      "'PKRGKKGAVAEDGDELRTEPEAKKSKTAAKKNDKEAAGEGPALYEDPPDQKTSPSGKPATLKICSWNVDGLRAWIKKKGLDWVKEEAPDILCLQETKCSEN'\n",
      "'KLPAELQELPGLSHQYWSAPSDKEGYSGVGLLSRQCPLKVSYGIGDEEHDQEGRVIVAEFDSFVLVTAYVPNAGRGLVRLEYRQRWDEAFRKFLKGLASRK'\n",
      "'PLVLCGDLNVAHEEIDLRNPKGNKKNAGFTPQERQGFGELLQAVPLADSFRHLYPNTPYAYTFWTYMMNARSKNVGWRLDYFLLSHSLLPALCDSKIRSKA'\n",
      "'LGSDHCPITLYLAL.XXXXXXXX.PIVQNLQGQMVHQAISPRTLNAWVKVVEEKAFSPEVIPMFSALSEGATPQDLNTMLNTVGGHQAAMQMLKETINEEA'\n",
      "'AEWDRLHPVHAGPIEPGQMREPRGSDIAGTTSTLQEQIGWMTHNPPIPVGEIYKRWIILGLNKIVRMYSPTSILDIRQGPKEPFRDYVDRFYKTLRAEQAS'\n"
     ]
    }
   ],
   "source": [
    "sequences = sequence_dataset.batch(SEQUENCE_LENGTH + 1, drop_remainder=True)\n",
    "\n",
    "for item in sequences.take(5):\n",
    "    print(repr(''.join(index_to_amino_acid[item.numpy()])))"
   ]
  },
  {
   "cell_type": "code",
   "execution_count": 12,
   "metadata": {},
   "outputs": [],
   "source": [
    "def split_input_target(chunk):\n",
    "    input_text = chunk[:-1]\n",
    "    target_text = chunk[1:]\n",
    "    return input_text, target_text\n",
    "\n",
    "dataset = sequences.map(split_input_target)"
   ]
  },
  {
   "cell_type": "code",
   "execution_count": 13,
   "metadata": {},
   "outputs": [
    {
     "name": "stdout",
     "output_type": "stream",
     "text": [
      "Input data:  'PKRGKKGAVAEDGDELRTEPEAKKSKTAAKKNDKEAAGEGPALYEDPPDQKTSPSGKPATLKICSWNVDGLRAWIKKKGLDWVKEEAPDILCLQETKCSE'\n",
      "Target data: 'KRGKKGAVAEDGDELRTEPEAKKSKTAAKKNDKEAAGEGPALYEDPPDQKTSPSGKPATLKICSWNVDGLRAWIKKKGLDWVKEEAPDILCLQETKCSEN'\n"
     ]
    }
   ],
   "source": [
    "for input_example, target_example in  dataset.take(1):\n",
    "    print ('Input data: ', repr(''.join(index_to_amino_acid[input_example.numpy()])))\n",
    "    print ('Target data:', repr(''.join(index_to_amino_acid[target_example.numpy()])))"
   ]
  },
  {
   "cell_type": "code",
   "execution_count": 14,
   "metadata": {},
   "outputs": [
    {
     "name": "stdout",
     "output_type": "stream",
     "text": [
      "[+] Examples Per Epoch: 458364\n",
      "[+] Steps Per Epoch: 7161\n",
      "[+] Batch Size: 64\n"
     ]
    },
    {
     "data": {
      "text/plain": [
       "<DatasetV1Adapter shapes: ((64, 100), (64, 100)), types: (tf.int64, tf.int64)>"
      ]
     },
     "execution_count": 14,
     "metadata": {},
     "output_type": "execute_result"
    }
   ],
   "source": [
    "BATCH_SIZE = 64\n",
    "steps_per_epoch = examples_per_epoch // BATCH_SIZE\n",
    "\n",
    "dataset = dataset.shuffle(buffer_size=10000).batch(\n",
    "    batch_size=BATCH_SIZE, drop_remainder=True\n",
    ")\n",
    "\n",
    "print(f'[+] Examples Per Epoch: {examples_per_epoch}')\n",
    "print(f'[+] Steps Per Epoch: {steps_per_epoch}')\n",
    "print(f'[+] Batch Size: {BATCH_SIZE}')\n",
    "dataset"
   ]
  },
  {
   "cell_type": "code",
   "execution_count": 15,
   "metadata": {},
   "outputs": [],
   "source": [
    "RNN_UNITS = 1024\n",
    "EMBEDDING_DIM = 256"
   ]
  },
  {
   "cell_type": "code",
   "execution_count": 16,
   "metadata": {},
   "outputs": [],
   "source": [
    "def build_model(vocab_size: int, embed_dim: int, \n",
    "                rnn_units: int, batch_size: int):\n",
    "    model = tf.keras.Sequential([\n",
    "        tf.keras.layers.Embedding(\n",
    "            vocab_size, embed_dim, \n",
    "            batch_input_shape=[batch_size, None],\n",
    "            name='embedding'\n",
    "        ),\n",
    "        tf.keras.layers.CuDNNLSTM(\n",
    "          rnn_units, return_sequences=True,\n",
    "          recurrent_initializer='glorot_uniform',\n",
    "          stateful=True, name='lstm'\n",
    "        ),\n",
    "        tf.keras.layers.Dense(vocab_size, name='dense_out')\n",
    "    ])\n",
    "    return model"
   ]
  },
  {
   "cell_type": "code",
   "execution_count": 17,
   "metadata": {},
   "outputs": [],
   "source": [
    "model = build_model(\n",
    "  vocab_size=distinct_amino_acid_count,\n",
    "  embed_dim=EMBEDDING_DIM, rnn_units=RNN_UNITS, \n",
    "  batch_size=BATCH_SIZE\n",
    ")"
   ]
  },
  {
   "cell_type": "code",
   "execution_count": 18,
   "metadata": {},
   "outputs": [
    {
     "name": "stdout",
     "output_type": "stream",
     "text": [
      "_________________________________________________________________\n",
      "Layer (type)                 Output Shape              Param #   \n",
      "=================================================================\n",
      "embedding (Embedding)        (64, None, 256)           6656      \n",
      "_________________________________________________________________\n",
      "lstm (CuDNNLSTM)             (64, None, 1024)          5251072   \n",
      "_________________________________________________________________\n",
      "dense_out (Dense)            (64, None, 26)            26650     \n",
      "=================================================================\n",
      "Total params: 5,284,378\n",
      "Trainable params: 5,284,378\n",
      "Non-trainable params: 0\n",
      "_________________________________________________________________\n"
     ]
    }
   ],
   "source": [
    "model.summary()"
   ]
  },
  {
   "cell_type": "code",
   "execution_count": 19,
   "metadata": {},
   "outputs": [
    {
     "name": "stdout",
     "output_type": "stream",
     "text": [
      "(64, 100, 26) # (batch_size, sequence_length, vocab_size)\n"
     ]
    }
   ],
   "source": [
    "for input_example_batch, target_example_batch in dataset.take(1):\n",
    "    example_batch_predictions = model(input_example_batch)\n",
    "    print(example_batch_predictions.shape, \"# (batch_size, sequence_length, vocab_size)\")"
   ]
  },
  {
   "cell_type": "code",
   "execution_count": 20,
   "metadata": {},
   "outputs": [],
   "source": [
    "sampled_indices = tf.random.categorical(example_batch_predictions[0], num_samples=1)\n",
    "sampled_indices = tf.squeeze(sampled_indices,axis=-1).numpy()"
   ]
  },
  {
   "cell_type": "code",
   "execution_count": 21,
   "metadata": {},
   "outputs": [
    {
     "data": {
      "text/plain": [
       "array([25, 21,  2, 17,  1, 23, 20,  6, 16, 20, 25, 22, 14,  7, 21, 18,  1,\n",
       "        8, 20, 10,  3, 23, 23, 12,  9, 12,  5, 13,  7,  4,  8,  2, 12,  0,\n",
       "        5,  5,  3,  5, 17,  0,  1,  6, 21, 25, 16,  0, 23, 16, 23, 18,  3,\n",
       "       24,  4,  7,  0, 16,  8, 23,  5,  9,  9,  3, 21, 22,  4, 19, 15, 23,\n",
       "       10,  4,  8, 20, 12, 11,  4, 24, 12, 17, 13,  4, 24,  7,  3,  1, 11,\n",
       "        5,  4, 14, 11, 12,  2, 15, 24, 11,  0, 22, 17,  9, 10,  4])"
      ]
     },
     "execution_count": 21,
     "metadata": {},
     "output_type": "execute_result"
    }
   ],
   "source": [
    "sampled_indices"
   ]
  },
  {
   "cell_type": "code",
   "execution_count": 22,
   "metadata": {},
   "outputs": [
    {
     "name": "stdout",
     "output_type": "stream",
     "text": [
      "Input: \n",
      " 'GNSPTEILAATFERLNIETGVNVQAALAAAEEVVRPYLPRLPWADRAAIVQGYAGVYSSFLLHAERAAERYGVPAHEILQRVGEAGYVGGQEDMIIDIAV'\n",
      "\n",
      "Next Acid Predictions: \n",
      " 'ZVBRAXUFQUZWOGVSAHUKCXXMIMENGDHBM.EECER.AFVZQ.XQXSCYDG.QHXEIICVWDTPXKDHUMLDYMRNDYGCALEDOLMBPYL.WRIKD'\n"
     ]
    }
   ],
   "source": [
    "print(\"Input: \\n\", repr(\"\".join(index_to_amino_acid[input_example_batch[0]])))\n",
    "print()\n",
    "print(\"Next Acid Predictions: \\n\", repr(\"\".join(index_to_amino_acid[sampled_indices ])))"
   ]
  },
  {
   "cell_type": "code",
   "execution_count": 23,
   "metadata": {},
   "outputs": [],
   "source": [
    "def loss(labels, logits):\n",
    "    return tf.keras.losses.sparse_categorical_crossentropy(\n",
    "        labels, logits, from_logits=True\n",
    "    )\n",
    "\n",
    "model.compile(\n",
    "    optimizer=tf.train.AdamOptimizer(),\n",
    "    loss=loss\n",
    ")"
   ]
  },
  {
   "cell_type": "code",
   "execution_count": 24,
   "metadata": {},
   "outputs": [],
   "source": [
    "# Directory where the checkpoints will be saved\n",
    "checkpoint_dir = './training_checkpoints'\n",
    "# Name of the checkpoint files\n",
    "checkpoint_prefix = os.path.join(\n",
    "    checkpoint_dir, 'rnnlm.weights.kla.hdf5'\n",
    ")\n",
    "\n",
    "checkpoint_callback = tf.keras.callbacks.ModelCheckpoint(\n",
    "    filepath=checkpoint_prefix,\n",
    "    save_weights_only=True,\n",
    "    monitor='loss',\n",
    "    verbose=1, save_best_only=True, \n",
    "    mode='min'\n",
    ")"
   ]
  },
  {
   "cell_type": "code",
   "execution_count": 25,
   "metadata": {
    "scrolled": false
   },
   "outputs": [
    {
     "name": "stdout",
     "output_type": "stream",
     "text": [
      "Epoch 1/12\n",
      "7160/7161 [============================>.] - ETA: 0s - loss: 2.4984\n",
      "Epoch 00001: loss improved from inf to 2.49839, saving model to ./training_checkpoints/rnnlm.weights.kla.hdf5\n",
      "7161/7161 [==============================] - 369s 51ms/step - loss: 2.4984\n",
      "Epoch 2/12\n",
      "7159/7161 [============================>.] - ETA: 0s - loss: 2.0818\n",
      "Epoch 00002: loss improved from 2.49839 to 2.08173, saving model to ./training_checkpoints/rnnlm.weights.kla.hdf5\n",
      "7161/7161 [==============================] - 369s 51ms/step - loss: 2.0817\n",
      "Epoch 3/12\n",
      "7160/7161 [============================>.] - ETA: 0s - loss: 1.9792\n",
      "Epoch 00003: loss improved from 2.08173 to 1.97922, saving model to ./training_checkpoints/rnnlm.weights.kla.hdf5\n",
      "7161/7161 [==============================] - 368s 51ms/step - loss: 1.9792\n",
      "Epoch 4/12\n",
      "7159/7161 [============================>.] - ETA: 0s - loss: 1.9287\n",
      "Epoch 00004: loss improved from 1.97922 to 1.92868, saving model to ./training_checkpoints/rnnlm.weights.kla.hdf5\n",
      "7161/7161 [==============================] - 369s 51ms/step - loss: 1.9287\n",
      "Epoch 5/12\n",
      "7160/7161 [============================>.] - ETA: 0s - loss: 1.8960\n",
      "Epoch 00005: loss improved from 1.92868 to 1.89596, saving model to ./training_checkpoints/rnnlm.weights.kla.hdf5\n",
      "7161/7161 [==============================] - 369s 51ms/step - loss: 1.8960\n",
      "Epoch 6/12\n",
      "7160/7161 [============================>.] - ETA: 0s - loss: 1.8703\n",
      "Epoch 00006: loss improved from 1.89596 to 1.87028, saving model to ./training_checkpoints/rnnlm.weights.kla.hdf5\n",
      "7161/7161 [==============================] - 369s 51ms/step - loss: 1.8703\n",
      "Epoch 7/12\n",
      "7160/7161 [============================>.] - ETA: 0s - loss: 1.8507\n",
      "Epoch 00007: loss improved from 1.87028 to 1.85069, saving model to ./training_checkpoints/rnnlm.weights.kla.hdf5\n",
      "7161/7161 [==============================] - 369s 51ms/step - loss: 1.8507\n",
      "Epoch 8/12\n",
      "7160/7161 [============================>.] - ETA: 0s - loss: 1.8347\n",
      "Epoch 00008: loss improved from 1.85069 to 1.83473, saving model to ./training_checkpoints/rnnlm.weights.kla.hdf5\n",
      "7161/7161 [==============================] - 368s 51ms/step - loss: 1.8347\n",
      "Epoch 9/12\n",
      "7160/7161 [============================>.] - ETA: 0s - loss: 1.8203\n",
      "Epoch 00009: loss improved from 1.83473 to 1.82034, saving model to ./training_checkpoints/rnnlm.weights.kla.hdf5\n",
      "7161/7161 [==============================] - 369s 51ms/step - loss: 1.8203\n",
      "Epoch 10/12\n",
      "7160/7161 [============================>.] - ETA: 0s - loss: 1.8088\n",
      "Epoch 00010: loss improved from 1.82034 to 1.80876, saving model to ./training_checkpoints/rnnlm.weights.kla.hdf5\n",
      "7161/7161 [==============================] - 369s 51ms/step - loss: 1.8088\n",
      "Epoch 11/12\n",
      "7160/7161 [============================>.] - ETA: 0s - loss: 1.7974\n",
      "Epoch 00011: loss improved from 1.80876 to 1.79738, saving model to ./training_checkpoints/rnnlm.weights.kla.hdf5\n",
      "7161/7161 [==============================] - 368s 51ms/step - loss: 1.7974\n",
      "Epoch 12/12\n",
      "7159/7161 [============================>.] - ETA: 0s - loss: 1.7876\n",
      "Epoch 00012: loss improved from 1.79738 to 1.78758, saving model to ./training_checkpoints/rnnlm.weights.kla.hdf5\n",
      "7161/7161 [==============================] - 368s 51ms/step - loss: 1.7876\n"
     ]
    }
   ],
   "source": [
    "EPOCHS = 12\n",
    "\n",
    "FIT_MODEL = True\n",
    "\n",
    "if FIT_MODEL:\n",
    "    history = model.fit(\n",
    "      dataset.repeat(), epochs=EPOCHS, \n",
    "      steps_per_epoch=steps_per_epoch, callbacks=[checkpoint_callback]\n",
    "    )"
   ]
  },
  {
   "cell_type": "code",
   "execution_count": 26,
   "metadata": {},
   "outputs": [],
   "source": [
    "model = build_model(\n",
    "  vocab_size=distinct_amino_acid_count,\n",
    "  embed_dim=EMBEDDING_DIM, rnn_units=RNN_UNITS, \n",
    "  batch_size=1\n",
    ")\n",
    "model.load_weights(checkpoint_prefix)\n",
    "model.build(tf.TensorShape([1, None]))"
   ]
  },
  {
   "cell_type": "code",
   "execution_count": 27,
   "metadata": {},
   "outputs": [
    {
     "name": "stderr",
     "output_type": "stream",
     "text": [
      "Using TensorFlow backend.\n"
     ]
    },
    {
     "data": {
      "image/png": "[encoded data removed]",
      "text/plain": [
       "<IPython.core.display.Image object>"
      ]
     },
     "execution_count": 27,
     "metadata": {
      "image/png": {
       "height": 196,
       "width": 205
      }
     },
     "output_type": "execute_result"
    }
   ],
   "source": [
    "from keras.utils import plot_model\n",
    "from IPython.display import Image\n",
    "plot_model(model, show_shapes=True, show_layer_names=True, to_file='rnnlm.png')\n",
    "Image(retina=True, filename='rnnlm.png')"
   ]
  },
  {
   "cell_type": "code",
   "execution_count": 28,
   "metadata": {},
   "outputs": [],
   "source": [
    "def generate_text(model, start_string):\n",
    "    # Evaluation step (generating text using the learned model)\n",
    "\n",
    "    # Number of characters to generate\n",
    "    num_generate = 1000\n",
    "\n",
    "    # Converting our start string to numbers (vectorizing)\n",
    "    input_eval = [amino_acid_to_index[s] for s in start_string]\n",
    "    input_eval = tf.expand_dims(input_eval, 0)\n",
    "\n",
    "    # Empty string to store our results\n",
    "    text_generated = []\n",
    "\n",
    "    # Low temperatures results in more predictable text.\n",
    "    # Higher temperatures results in more surprising text.\n",
    "    # Experiment to find the best setting.\n",
    "    temperature = 1.0\n",
    "\n",
    "    # Here batch size == 1\n",
    "    model.reset_states()\n",
    "    for i in range(num_generate):\n",
    "        predictions = model(input_eval)\n",
    "        # remove the batch dimension\n",
    "        predictions = tf.squeeze(predictions, 0)\n",
    "\n",
    "        # using a multinomial distribution to predict the word returned by the model\n",
    "        predictions = predictions / temperature\n",
    "        predicted_id = tf.multinomial(predictions, num_samples=1)[-1,0].numpy()\n",
    "\n",
    "        # We pass the predicted word as the next input to the model\n",
    "        # along with the previous hidden state\n",
    "        input_eval = tf.expand_dims([predicted_id], 0)\n",
    "\n",
    "        text_generated.append(index_to_amino_acid[predicted_id])\n",
    "\n",
    "    return (start_string + ''.join(text_generated))"
   ]
  },
  {
   "cell_type": "code",
   "execution_count": 29,
   "metadata": {
    "scrolled": false
   },
   "outputs": [
    {
     "name": "stdout",
     "output_type": "stream",
     "text": [
      "WARNING:tensorflow:From <ipython-input-28-727e1e44b96f>:28: multinomial (from tensorflow.python.ops.random_ops) is deprecated and will be removed in a future version.\n",
      "Instructions for updating:\n",
      "Use tf.random.categorical instead.\n",
      "EKKSINE.MAMGAAKNSTSVLALKTTGMWQTDKRFSNRFGDAGLKAGRPDQVQGVLKTLNILSSASGADFTAMPYKFQNHPMDRVAVTPIPENFKIHKYEAGVIGNYDTVDSQYPEQYNSVPFPPIRIPLMIKPGNKERFATVMDSEYDLSNKSVPSFETRLFYTPEYSSMNLIKKTLKAYASGRYWDWEILSVVPT.UUGUUGGGAGGGCGCAGCGGUCUCCCCAAUGGGCGUAAAGGUCCUUGGUGGCGGCACAGUCUUUGGUAAUUAUUGAAACGUUGUCAUGUACUAGGGAACCCGGAAGGGAGGGGGAGUGGUGGAAUUCCAGUAGAUGGAAAAUGCAAUGUGAACUUGGAAUGGCCUACAAGGUGCCCUGCUU.MVYQTDGLQFSLPPSDERDMIARAIHWESPDKQIYTLIDKDYLEIVKQDTKIGNHFFSVEEAQQLIAAQLKSGAGGCGGACGGAAAGUCCGCGGCCGUGGACCCGAAACCGGUCGGUGAGAGCACGAUAGUGAUCCGGUGGGGCCCAUGCCCAGAAGGGAGCCAAGGGUAGAAGGGGGCCUGAGAACCGUAAGGUAGCCGUAAUGUGAAUUGCAGAAUUCCGUGAAUCAUCGAAUCUUUGAACGCACAUUGCGCCCCUUGGUAUUCCAGGGGGCAUGCCUGUUUGAACGCCUGCAAGCCCCAAACGACACAAGGGUUCCUGUCGGCADKPGGSPALNDDPILRSVDLRALSRHAVRTMALGRDHQALAVLLFASERALRAAQRTGREQLAYLDHTPREALDVMQKIVEQAKLKGIEDVRQVAKCLLPEYRRYEDGEEGGWLMQDALPALMGGDQIVSHVHSQRPVFFTFDRLHAEELQAEVNRSLKPVAELLKIKEGYVVSLDVSDLLLIQQRTIHRPEHICVLEIGQEVNTGSKGYLAWRYRNYWDYGSWGTFFTQQFSEYDGAIDIPDNGNYGSLDNAMVANPLVLILGPPGMDALAGAALVLLILTARGWLVLRCCESAWTKVA\n"
     ]
    }
   ],
   "source": [
    "print(generate_text(model, start_string=u\"EKKSINE\"))"
   ]
  },
  {
   "cell_type": "code",
   "execution_count": null,
   "metadata": {},
   "outputs": [],
   "source": []
  }
 ],
 "metadata": {
  "kernelspec": {
   "display_name": "Python 3",
   "language": "python",
   "name": "python3"
  },
  "language_info": {
   "codemirror_mode": {
    "name": "ipython",
    "version": 3
   },
   "file_extension": ".py",
   "mimetype": "text/x-python",
   "name": "python",
   "nbconvert_exporter": "python",
   "pygments_lexer": "ipython3",
   "version": "3.7.3"
  }
 },
 "nbformat": 4,
 "nbformat_minor": 2
}
