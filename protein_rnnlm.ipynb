{
 "cells": [
  {
   "cell_type": "code",
   "execution_count": 1,
   "metadata": {},
   "outputs": [],
   "source": [
    "# TODO: \n",
    "# Refactor code.\n",
    "#  Turn the dataset create into functions so we can load\n",
    "#  training and testing datasets.\n",
    "# Parameter tuning.\n",
    "#  256 is probably too high of an embedding dimension.\n",
    "#  The model isn't converging beyond ~1.6\n",
    "# Split the files into testing and training sets one time.\n",
    "# Add recurrent dropout.\n",
    "# Play with the temperature.\n",
    "# Custom training loop. It would likely be better to train\n",
    "# the model on individual sequences, and reset the state\n",
    "# before each.\n",
    "# ReduceLROnPlateau - likely won't drastically imporve performance. \n",
    "import os\n",
    "import random\n",
    "from typing import List\n",
    "\n",
    "\n",
    "import numpy as np\n",
    "import tensorflow as tf\n",
    "\n",
    "tf.enable_eager_execution()\n",
    "config = tf.ConfigProto()\n",
    "config.gpu_options.allow_growth = True\n",
    "session = tf.InteractiveSession(config=config)\n",
    "\n",
    "from tensorflow.keras.preprocessing.sequence import pad_sequences\n",
    "from tensorflow.keras.preprocessing.text import Tokenizer"
   ]
  },
  {
   "cell_type": "code",
   "execution_count": 2,
   "metadata": {},
   "outputs": [],
   "source": [
    "def sequence_list_from_file(file, is_dev_file=True):\n",
    "    '''\n",
    "    Return a list of sequences from a file.\n",
    "    @file - Either a string or a keras file obj.\n",
    "    @is_dev_file - Whether to read the dev file.\n",
    "    '''\n",
    "    if is_dev_file:\n",
    "        return get_sequence_list_from_dev_file(file)\n",
    "    else:\n",
    "        return get_sequence_list_from_train_file(file)\n",
    "    \n",
    "    \n",
    "def get_sequence_list_from_dev_file(file):\n",
    "    with open(file, 'r') as sequence_file:\n",
    "        sequence_text = sequence_file.read() \\\n",
    "                                     .replace('-', '')\n",
    "        return sequences.split('\\n')\n",
    "\n",
    "    \n",
    "def get_sequence_list_from_train_file(file):\n",
    "    sequences = list()\n",
    "    with open(file, 'r') as sequence_file:\n",
    "        for iter_, line in enumerate(sequence_file):\n",
    "            if (iter_ + 1) % 2 == 0:\n",
    "                sequences.append(line.strip())\n",
    "    return sequences"
   ]
  },
  {
   "cell_type": "code",
   "execution_count": 3,
   "metadata": {},
   "outputs": [
    {
     "name": "stdout",
     "output_type": "stream",
     "text": [
      "[+] Train File Path: /home/das-hund/PycharmProjects/autoencoders/data/pdb_seqres.txt\n",
      "[+] Dev File Path: https://raw.githubusercontent.com/badriadhikari/DEEPCON/master/deepcon-covariance/test/16pkA0.aln\n"
     ]
    }
   ],
   "source": [
    "repo = 'https://raw.githubusercontent.com/badriadhikari'\n",
    "remote_data_path = 'DEEPCON/master/deepcon-covariance/test'\n",
    "dev_file = '16pkA0.aln'\n",
    "\n",
    "local_data_path = '/home/das-hund/PycharmProjects/autoencoders/data'\n",
    "train_file = 'pdb_seqres.txt'\n",
    "\n",
    "dev_file_path = os.path.join(\n",
    "    repo, remote_data_path, dev_file\n",
    ")\n",
    "train_file_path = os.path.join(\n",
    "    local_data_path, train_file\n",
    ")\n",
    "\n",
    "print(f'[+] Train File Path: {train_file_path}')\n",
    "print(f'[+] Dev File Path: {dev_file_path}')"
   ]
  },
  {
   "cell_type": "code",
   "execution_count": 4,
   "metadata": {},
   "outputs": [
    {
     "name": "stdout",
     "output_type": "stream",
     "text": [
      "509350\n",
      "[+] First 500 acids:\n",
      "\tPSRLRKTRKLRGHVSHGHGRIGKHRKHPGGRGNAGGMHHHRINFDKYHPGYFGKVGMRHYHLKRNQSFCPTVNLDKLWTLVSEQTRVNAAKNKTGAAPIIDVVRSGYYKVLGKGKLPKQPVIVKAKFFSRRAEEKIKGVGGACVLVA.MASMTGGQQMGRGSAGVLPAHGTQHGIRLPLRSGLGGAPLGLRLPRETDEEPEEPGRRGSFVEMVDNLRGKSGQGYYVEMTVGSPPQTLNILVDTGSSNFAVGAAPHPFLHRYYQRQLSSTYRDLRKGVYVPYTQGKWEGELGTDLVSIPHGPNVTVRANIAAITESDKFFINGSNWEGILGLAYAEIARPDDSLEPFFDSLVKQTHVPNLFSLQLCGAGFPLNQSEVLASVGGSMIIGGIDHSLYTGSLWYTPIRREWYYEVIIVRVEINGQDLKMDCKEYNYDKSIVDSGTTNLRLPKKVFEAAVKSIKAASSTEKFPDGFWLGEQLVCWQAGTTPWNIFPVISLYLMGE\n"
     ]
    }
   ],
   "source": [
    "IS_DEV_FILE = False\n",
    "SEQUENCE_COUNT_LIMIT = 256000\n",
    "PRINT_ACID_COUNT = 500\n",
    "\n",
    "if IS_DEV_FILE:\n",
    "    file_path = dev_file_path\n",
    "else:\n",
    "    file_path = train_file_path\n",
    "\n",
    "sequence_list = sequence_list_from_file(file=file_path, is_dev_file=IS_DEV_FILE)\n",
    "random.shuffle(sequence_list)\n",
    "\n",
    "print(len(sequence_list))\n",
    "\n",
    "if SEQUENCE_COUNT_LIMIT is not None:\n",
    "    sequence_list = sequence_list[:SEQUENCE_COUNT_LIMIT]\n",
    "    \n",
    "sequences = '.'.join(sequence_list)\n",
    "\n",
    "print(f'[+] First {PRINT_ACID_COUNT} acids:\\n\\t{sequences[:PRINT_ACID_COUNT]}')"
   ]
  },
  {
   "cell_type": "code",
   "execution_count": 5,
   "metadata": {},
   "outputs": [
    {
     "name": "stdout",
     "output_type": "stream",
     "text": [
      "[+] 25 Distinct Amino Acids in /home/das-hund/PycharmProjects/autoencoders/data/pdb_seqres.txt\n"
     ]
    }
   ],
   "source": [
    "distinct_amino_acids = sorted(set(sequences))\n",
    "distinct_amino_acid_count = len(distinct_amino_acids)\n",
    "print(\n",
    "  f'[+] {distinct_amino_acid_count - 1} Distinct Amino Acids in {file_path}'\n",
    ")"
   ]
  },
  {
   "cell_type": "code",
   "execution_count": 6,
   "metadata": {},
   "outputs": [],
   "source": [
    "amino_acid_to_index = {\n",
    "  amino_acid: index \n",
    "  for index, amino_acid in enumerate(distinct_amino_acids)\n",
    "}\n",
    "index_to_amino_acid = np.array(distinct_amino_acids)"
   ]
  },
  {
   "cell_type": "code",
   "execution_count": 7,
   "metadata": {},
   "outputs": [
    {
     "name": "stdout",
     "output_type": "stream",
     "text": [
      "[+] Amino Acid to Index:\n",
      "{\n",
      "\t.: 0\n",
      "\tA: 1\n",
      "\tB: 2\n",
      "\tC: 3\n",
      "\tD: 4\n",
      "\tE: 5\n",
      "\tF: 6\n",
      "\tG: 7\n",
      "\tH: 8\n",
      "\tI: 9\n",
      "\tK: 10\n",
      "\tL: 11\n",
      "\tM: 12\n",
      "\tN: 13\n",
      "\tO: 14\n",
      "\tP: 15\n",
      "\tQ: 16\n",
      "\tR: 17\n",
      "\tS: 18\n",
      "\tT: 19\n",
      "\tU: 20\n",
      "\tV: 21\n",
      "\tW: 22\n",
      "\tX: 23\n",
      "\tY: 24\n",
      "\tZ: 25\n",
      "}\n",
      "[+] Index to Amino Acids:\n",
      "['.' 'A' 'B' 'C' 'D' 'E' 'F' 'G' 'H' 'I' 'K' 'L' 'M' 'N' 'O' 'P' 'Q' 'R'\n",
      " 'S' 'T' 'U' 'V' 'W' 'X' 'Y' 'Z']\n"
     ]
    }
   ],
   "source": [
    "def pretty_print_dict(d: dict, length=0):\n",
    "    print('{')\n",
    "    for k, v in d.items():\n",
    "        print(f'\\t{k}: {v}')\n",
    "    print('}')\n",
    "\n",
    "print('[+] Amino Acid to Index:')\n",
    "pretty_print_dict(amino_acid_to_index)\n",
    "print(f'[+] Index to Amino Acids:\\n{index_to_amino_acid}')"
   ]
  },
  {
   "cell_type": "code",
   "execution_count": 8,
   "metadata": {},
   "outputs": [
    {
     "name": "stdout",
     "output_type": "stream",
     "text": [
      "[+] PSRLRKTRKLRGHVSHGHGR mapped to int [15 18 17 11 17 10 19 17 10 11 17  7  8 21 18  8  7  8  7 17]\n"
     ]
    }
   ],
   "source": [
    "sequences_as_int = np.array(\n",
    "  [amino_acid_to_index[amino_acid] for amino_acid in sequences]\n",
    ")\n",
    "print(f'[+] {sequences[:20]} mapped to int {sequences_as_int[:20]}')"
   ]
  },
  {
   "cell_type": "code",
   "execution_count": 9,
   "metadata": {},
   "outputs": [
    {
     "data": {
      "text/plain": [
       "(65263007,)"
      ]
     },
     "execution_count": 9,
     "metadata": {},
     "output_type": "execute_result"
    }
   ],
   "source": [
    "sequences_as_int.shape"
   ]
  },
  {
   "cell_type": "code",
   "execution_count": 10,
   "metadata": {},
   "outputs": [
    {
     "name": "stdout",
     "output_type": "stream",
     "text": [
      "First 5 Acids:\n",
      "WARNING:tensorflow:From /home/das-hund/.conda/envs/notebook/lib/python3.7/site-packages/tensorflow/python/data/ops/iterator_ops.py:532: colocate_with (from tensorflow.python.framework.ops) is deprecated and will be removed in a future version.\n",
      "Instructions for updating:\n",
      "Colocations handled automatically by placer.\n",
      "P\n",
      "S\n",
      "R\n",
      "L\n",
      "R\n"
     ]
    }
   ],
   "source": [
    "# Here we are just getting the really long sequence into\n",
    "# tf.Dataset object. \n",
    "SEQUENCE_LENGTH = 100\n",
    "examples_per_epoch = len(sequences_as_int) // SEQUENCE_LENGTH\n",
    "\n",
    "sequence_dataset = tf.data.Dataset.from_tensor_slices(sequences_as_int)\n",
    "\n",
    "print('First 5 Acids:')\n",
    "for i in sequence_dataset.take(5):\n",
    "    print(index_to_amino_acid[i.numpy()])"
   ]
  },
  {
   "cell_type": "code",
   "execution_count": 11,
   "metadata": {},
   "outputs": [
    {
     "name": "stdout",
     "output_type": "stream",
     "text": [
      "'PSRLRKTRKLRGHVSHGHGRIGKHRKHPGGRGNAGGMHHHRINFDKYHPGYFGKVGMRHYHLKRNQSFCPTVNLDKLWTLVSEQTRVNAAKNKTGAAPIID'\n",
      "'VVRSGYYKVLGKGKLPKQPVIVKAKFFSRRAEEKIKGVGGACVLVA.MASMTGGQQMGRGSAGVLPAHGTQHGIRLPLRSGLGGAPLGLRLPRETDEEPEE'\n",
      "'PGRRGSFVEMVDNLRGKSGQGYYVEMTVGSPPQTLNILVDTGSSNFAVGAAPHPFLHRYYQRQLSSTYRDLRKGVYVPYTQGKWEGELGTDLVSIPHGPNV'\n",
      "'TVRANIAAITESDKFFINGSNWEGILGLAYAEIARPDDSLEPFFDSLVKQTHVPNLFSLQLCGAGFPLNQSEVLASVGGSMIIGGIDHSLYTGSLWYTPIR'\n",
      "'REWYYEVIIVRVEINGQDLKMDCKEYNYDKSIVDSGTTNLRLPKKVFEAAVKSIKAASSTEKFPDGFWLGEQLVCWQAGTTPWNIFPVISLYLMGEVTNQS'\n"
     ]
    }
   ],
   "source": [
    "sequences = sequence_dataset.batch(SEQUENCE_LENGTH + 1, drop_remainder=True)\n",
    "\n",
    "for item in sequences.take(5):\n",
    "    print(repr(''.join(index_to_amino_acid[item.numpy()])))"
   ]
  },
  {
   "cell_type": "code",
   "execution_count": 12,
   "metadata": {},
   "outputs": [],
   "source": [
    "def split_input_target(chunk):\n",
    "    input_text = chunk[:-1]\n",
    "    target_text = chunk[1:]\n",
    "    return input_text, target_text\n",
    "\n",
    "dataset = sequences.map(split_input_target)"
   ]
  },
  {
   "cell_type": "code",
   "execution_count": 13,
   "metadata": {},
   "outputs": [
    {
     "name": "stdout",
     "output_type": "stream",
     "text": [
      "Input data:  'PSRLRKTRKLRGHVSHGHGRIGKHRKHPGGRGNAGGMHHHRINFDKYHPGYFGKVGMRHYHLKRNQSFCPTVNLDKLWTLVSEQTRVNAAKNKTGAAPII'\n",
      "Target data: 'SRLRKTRKLRGHVSHGHGRIGKHRKHPGGRGNAGGMHHHRINFDKYHPGYFGKVGMRHYHLKRNQSFCPTVNLDKLWTLVSEQTRVNAAKNKTGAAPIID'\n"
     ]
    }
   ],
   "source": [
    "for input_example, target_example in  dataset.take(1):\n",
    "    print ('Input data: ', repr(''.join(index_to_amino_acid[input_example.numpy()])))\n",
    "    print ('Target data:', repr(''.join(index_to_amino_acid[target_example.numpy()])))"
   ]
  },
  {
   "cell_type": "code",
   "execution_count": 14,
   "metadata": {},
   "outputs": [
    {
     "name": "stdout",
     "output_type": "stream",
     "text": [
      "[+] Examples Per Epoch: 652630\n",
      "[+] Steps Per Epoch: 10197\n",
      "[+] Batch Size: 64\n"
     ]
    },
    {
     "data": {
      "text/plain": [
       "<DatasetV1Adapter shapes: ((64, 100), (64, 100)), types: (tf.int64, tf.int64)>"
      ]
     },
     "execution_count": 14,
     "metadata": {},
     "output_type": "execute_result"
    }
   ],
   "source": [
    "BATCH_SIZE = 64\n",
    "steps_per_epoch = examples_per_epoch // BATCH_SIZE\n",
    "\n",
    "dataset = dataset.shuffle(buffer_size=10000).batch(\n",
    "    batch_size=BATCH_SIZE, drop_remainder=True\n",
    ")\n",
    "\n",
    "print(f'[+] Examples Per Epoch: {examples_per_epoch}')\n",
    "print(f'[+] Steps Per Epoch: {steps_per_epoch}')\n",
    "print(f'[+] Batch Size: {BATCH_SIZE}')\n",
    "dataset"
   ]
  },
  {
   "cell_type": "code",
   "execution_count": 15,
   "metadata": {},
   "outputs": [],
   "source": [
    "RNN_UNITS = 1024\n",
    "EMBEDDING_DIM = 256"
   ]
  },
  {
   "cell_type": "code",
   "execution_count": 16,
   "metadata": {},
   "outputs": [],
   "source": [
    "# We are using the Keras stateful LSTM. With the statefull\n",
    "# LSTM, the the last state for each sample at index i in a \n",
    "# batch will be used as initial state for the sample of\n",
    "# index i in the following batch.\n",
    "def build_model(vocab_size: int, embed_dim: int, \n",
    "                rnn_units: int, batch_size: int):\n",
    "    model = tf.keras.Sequential()\n",
    "    model.add(tf.keras.layers.Embedding(\n",
    "        vocab_size, embed_dim,\n",
    "        batch_input_shape=[batch_size, None],\n",
    "        name='embedding'\n",
    "    ))\n",
    "    model.add(tf.keras.layers.CuDNNLSTM(\n",
    "            rnn_units, return_sequences=True,\n",
    "            recurrent_initializer='glorot_uniform',\n",
    "            stateful=True, name='lstm_one'\n",
    "    ))\n",
    "    '''\n",
    "    model.add(tf.keras.layers.CuDNNLSTM(\n",
    "        rnn_units, return_sequences=True,\n",
    "        recurrent_initializer='glorot_uniform',\n",
    "        stateful=True, name='lstm_two'\n",
    "    ))\n",
    "    '''\n",
    "    model.add(tf.keras.layers.Dense(\n",
    "        vocab_size, name='dense_out'\n",
    "    ))\n",
    "    return model"
   ]
  },
  {
   "cell_type": "code",
   "execution_count": 17,
   "metadata": {},
   "outputs": [],
   "source": [
    "model = build_model(\n",
    "    vocab_size=distinct_amino_acid_count,\n",
    "    embed_dim=EMBEDDING_DIM, rnn_units=RNN_UNITS, \n",
    "    batch_size=BATCH_SIZE\n",
    ")"
   ]
  },
  {
   "cell_type": "code",
   "execution_count": 18,
   "metadata": {},
   "outputs": [
    {
     "name": "stdout",
     "output_type": "stream",
     "text": [
      "_________________________________________________________________\n",
      "Layer (type)                 Output Shape              Param #   \n",
      "=================================================================\n",
      "embedding (Embedding)        (64, None, 256)           6656      \n",
      "_________________________________________________________________\n",
      "lstm_one (CuDNNLSTM)         (64, None, 1024)          5251072   \n",
      "_________________________________________________________________\n",
      "dense_out (Dense)            (64, None, 26)            26650     \n",
      "=================================================================\n",
      "Total params: 5,284,378\n",
      "Trainable params: 5,284,378\n",
      "Non-trainable params: 0\n",
      "_________________________________________________________________\n"
     ]
    }
   ],
   "source": [
    "model.summary()"
   ]
  },
  {
   "cell_type": "code",
   "execution_count": 19,
   "metadata": {},
   "outputs": [
    {
     "name": "stdout",
     "output_type": "stream",
     "text": [
      "(64, 100, 26) # (batch_size, sequence_length, vocab_size)\n"
     ]
    }
   ],
   "source": [
    "for input_example_batch, target_example_batch in dataset.take(1):\n",
    "    example_batch_predictions = model(input_example_batch)\n",
    "    print(example_batch_predictions.shape, \"# (batch_size, sequence_length, vocab_size)\")"
   ]
  },
  {
   "cell_type": "code",
   "execution_count": 20,
   "metadata": {},
   "outputs": [],
   "source": [
    "sampled_indices = tf.random.categorical(example_batch_predictions[0], num_samples=1)\n",
    "sampled_indices = tf.squeeze(sampled_indices,axis=-1).numpy()"
   ]
  },
  {
   "cell_type": "code",
   "execution_count": 21,
   "metadata": {},
   "outputs": [
    {
     "data": {
      "text/plain": [
       "array([ 4, 24, 21,  9, 13, 14,  5,  2, 25, 20, 12, 16,  8, 20,  2,  2, 22,\n",
       "        1, 16,  1, 21,  5, 21, 12,  5, 21, 20, 17, 20, 20, 12, 23, 10, 17,\n",
       "       11,  1, 19, 25, 18, 20, 25, 18,  2, 18,  4, 17, 25, 25, 22,  0, 12,\n",
       "       12, 15, 17, 21, 24,  7, 21,  1, 23,  6, 23, 24, 19,  8,  8, 21,  6,\n",
       "        7, 18, 13,  3,  5,  5, 19, 12, 25, 12,  3,  2, 13,  9,  9, 16, 13,\n",
       "       16, 17,  7,  2, 16, 11,  4, 24,  2, 19, 21, 19, 22, 21, 17])"
      ]
     },
     "execution_count": 21,
     "metadata": {},
     "output_type": "execute_result"
    }
   ],
   "source": [
    "sampled_indices"
   ]
  },
  {
   "cell_type": "code",
   "execution_count": 22,
   "metadata": {},
   "outputs": [
    {
     "name": "stdout",
     "output_type": "stream",
     "text": [
      "Input: \n",
      " 'GTAADTEAVTQLIGSNIELHSLYTSREPRVVSALQMLKQHLFKYQGHIGAYLIVAGVDPTGSHLFSIHAHGSTDVGYYLSLGSGSLAAMAVLESHWKQDL'\n",
      "\n",
      "Next Acid Predictions: \n",
      " 'DYVINOEBZUMQHUBBWAQAVEVMEVURUUMXKRLATZSUZSBSDRZZW.MMPRVYGVAXFXYTHHVFGSNCEETMZMCBNIIQNQRGBQLDYBTVTWVR'\n"
     ]
    }
   ],
   "source": [
    "print(\"Input: \\n\", repr(\"\".join(index_to_amino_acid[input_example_batch[0]])))\n",
    "print()\n",
    "print(\"Next Acid Predictions: \\n\", repr(\"\".join(index_to_amino_acid[sampled_indices ])))"
   ]
  },
  {
   "cell_type": "code",
   "execution_count": 23,
   "metadata": {},
   "outputs": [],
   "source": [
    "def loss(labels, logits):\n",
    "    return tf.keras.losses.sparse_categorical_crossentropy(\n",
    "        labels, logits, from_logits=True\n",
    "    )\n",
    "\n",
    "model.compile(\n",
    "    optimizer=tf.train.AdamOptimizer(),\n",
    "    loss=loss\n",
    ")"
   ]
  },
  {
   "cell_type": "code",
   "execution_count": 24,
   "metadata": {},
   "outputs": [],
   "source": [
    "# Directory where the checkpoints will be saved\n",
    "checkpoint_dir = './training_checkpoints'\n",
    "# Name of the checkpoint files\n",
    "checkpoint_prefix = os.path.join(\n",
    "    checkpoint_dir, 'rnnlm.weights.kla.hdf5'\n",
    ")\n",
    "\n",
    "checkpoint_callback = tf.keras.callbacks.ModelCheckpoint(\n",
    "    filepath=checkpoint_prefix,\n",
    "    save_weights_only=True,\n",
    "    monitor='loss',\n",
    "    verbose=1, save_best_only=True, \n",
    "    mode='min'\n",
    ")"
   ]
  },
  {
   "cell_type": "code",
   "execution_count": 25,
   "metadata": {
    "scrolled": false
   },
   "outputs": [
    {
     "name": "stdout",
     "output_type": "stream",
     "text": [
      "Epoch 1/20\n",
      "10196/10197 [============================>.] - ETA: 0s - loss: 2.3815\n",
      "Epoch 00001: loss improved from inf to 2.38142, saving model to ./training_checkpoints/rnnlm.weights.kla.hdf5\n",
      "10197/10197 [==============================] - 529s 52ms/step - loss: 2.3814\n",
      "Epoch 2/20\n",
      "10196/10197 [============================>.] - ETA: 0s - loss: 2.0134\n",
      "Epoch 00002: loss improved from 2.38142 to 2.01338, saving model to ./training_checkpoints/rnnlm.weights.kla.hdf5\n",
      "10197/10197 [==============================] - 529s 52ms/step - loss: 2.0134\n",
      "Epoch 3/20\n",
      "10196/10197 [============================>.] - ETA: 0s - loss: 1.9320\n",
      "Epoch 00003: loss improved from 2.01338 to 1.93203, saving model to ./training_checkpoints/rnnlm.weights.kla.hdf5\n",
      "10197/10197 [==============================] - 529s 52ms/step - loss: 1.9320\n",
      "Epoch 4/20\n",
      "10195/10197 [============================>.] - ETA: 0s - loss: 1.8869\n",
      "Epoch 00004: loss improved from 1.93203 to 1.88693, saving model to ./training_checkpoints/rnnlm.weights.kla.hdf5\n",
      "10197/10197 [==============================] - 529s 52ms/step - loss: 1.8869\n",
      "Epoch 5/20\n",
      "10196/10197 [============================>.] - ETA: 0s - loss: 1.8553\n",
      "Epoch 00005: loss improved from 1.88693 to 1.85526, saving model to ./training_checkpoints/rnnlm.weights.kla.hdf5\n",
      "10197/10197 [==============================] - 529s 52ms/step - loss: 1.8553\n",
      "Epoch 6/20\n",
      "10196/10197 [============================>.] - ETA: 0s - loss: 1.8312\n",
      "Epoch 00006: loss improved from 1.85526 to 1.83116, saving model to ./training_checkpoints/rnnlm.weights.kla.hdf5\n",
      "10197/10197 [==============================] - 529s 52ms/step - loss: 1.8312\n",
      "Epoch 7/20\n",
      "10196/10197 [============================>.] - ETA: 0s - loss: 1.8105\n",
      "Epoch 00007: loss improved from 1.83116 to 1.81052, saving model to ./training_checkpoints/rnnlm.weights.kla.hdf5\n",
      "10197/10197 [==============================] - 530s 52ms/step - loss: 1.8105\n",
      "Epoch 8/20\n",
      "10196/10197 [============================>.] - ETA: 0s - loss: 1.7938\n",
      "Epoch 00008: loss improved from 1.81052 to 1.79385, saving model to ./training_checkpoints/rnnlm.weights.kla.hdf5\n",
      "10197/10197 [==============================] - 529s 52ms/step - loss: 1.7938\n",
      "Epoch 9/20\n",
      "10196/10197 [============================>.] - ETA: 0s - loss: 1.7791\n",
      "Epoch 00009: loss improved from 1.79385 to 1.77913, saving model to ./training_checkpoints/rnnlm.weights.kla.hdf5\n",
      "10197/10197 [==============================] - 529s 52ms/step - loss: 1.7791\n",
      "Epoch 10/20\n",
      "10196/10197 [============================>.] - ETA: 0s - loss: 1.7665\n",
      "Epoch 00010: loss improved from 1.77913 to 1.76654, saving model to ./training_checkpoints/rnnlm.weights.kla.hdf5\n",
      "10197/10197 [==============================] - 529s 52ms/step - loss: 1.7665\n",
      "Epoch 11/20\n",
      "10196/10197 [============================>.] - ETA: 0s - loss: 1.7555\n",
      "Epoch 00011: loss improved from 1.76654 to 1.75554, saving model to ./training_checkpoints/rnnlm.weights.kla.hdf5\n",
      "10197/10197 [==============================] - 529s 52ms/step - loss: 1.7555\n",
      "Epoch 12/20\n",
      "10196/10197 [============================>.] - ETA: 0s - loss: 1.7456\n",
      "Epoch 00012: loss improved from 1.75554 to 1.74563, saving model to ./training_checkpoints/rnnlm.weights.kla.hdf5\n",
      "10197/10197 [==============================] - 529s 52ms/step - loss: 1.7456\n",
      "Epoch 13/20\n",
      "10196/10197 [============================>.] - ETA: 0s - loss: 1.7366\n",
      "Epoch 00013: loss improved from 1.74563 to 1.73657, saving model to ./training_checkpoints/rnnlm.weights.kla.hdf5\n",
      "10197/10197 [==============================] - 529s 52ms/step - loss: 1.7366\n",
      "Epoch 14/20\n",
      "10196/10197 [============================>.] - ETA: 0s - loss: 1.7281\n",
      "Epoch 00014: loss improved from 1.73657 to 1.72808, saving model to ./training_checkpoints/rnnlm.weights.kla.hdf5\n",
      "10197/10197 [==============================] - 530s 52ms/step - loss: 1.7281\n",
      "Epoch 15/20\n",
      "10196/10197 [============================>.] - ETA: 0s - loss: 1.7213\n",
      "Epoch 00015: loss improved from 1.72808 to 1.72133, saving model to ./training_checkpoints/rnnlm.weights.kla.hdf5\n",
      "10197/10197 [==============================] - 530s 52ms/step - loss: 1.7213\n",
      "Epoch 16/20\n",
      "10196/10197 [============================>.] - ETA: 0s - loss: 1.7146\n",
      "Epoch 00016: loss improved from 1.72133 to 1.71455, saving model to ./training_checkpoints/rnnlm.weights.kla.hdf5\n",
      "10197/10197 [==============================] - 530s 52ms/step - loss: 1.7145\n",
      "Epoch 17/20\n",
      "10196/10197 [============================>.] - ETA: 0s - loss: 1.7084\n",
      "Epoch 00017: loss improved from 1.71455 to 1.70834, saving model to ./training_checkpoints/rnnlm.weights.kla.hdf5\n",
      "10197/10197 [==============================] - 530s 52ms/step - loss: 1.7083\n",
      "Epoch 18/20\n",
      "10196/10197 [============================>.] - ETA: 0s - loss: 1.7023\n",
      "Epoch 00018: loss improved from 1.70834 to 1.70226, saving model to ./training_checkpoints/rnnlm.weights.kla.hdf5\n",
      "10197/10197 [==============================] - 530s 52ms/step - loss: 1.7023\n",
      "Epoch 19/20\n",
      "10196/10197 [============================>.] - ETA: 0s - loss: 1.6970\n",
      "Epoch 00019: loss improved from 1.70226 to 1.69695, saving model to ./training_checkpoints/rnnlm.weights.kla.hdf5\n",
      "10197/10197 [==============================] - 529s 52ms/step - loss: 1.6970\n",
      "Epoch 20/20\n",
      "10196/10197 [============================>.] - ETA: 0s - loss: 1.6919\n",
      "Epoch 00020: loss improved from 1.69695 to 1.69188, saving model to ./training_checkpoints/rnnlm.weights.kla.hdf5\n",
      "10197/10197 [==============================] - 530s 52ms/step - loss: 1.6919\n"
     ]
    }
   ],
   "source": [
    "EPOCHS = 20\n",
    "\n",
    "FIT_MODEL = True\n",
    "\n",
    "if FIT_MODEL:\n",
    "    history = model.fit(\n",
    "        dataset.repeat(), epochs=EPOCHS, \n",
    "        steps_per_epoch=steps_per_epoch, \n",
    "        callbacks=[checkpoint_callback]\n",
    "    )"
   ]
  },
  {
   "cell_type": "code",
   "execution_count": 26,
   "metadata": {},
   "outputs": [],
   "source": [
    "model = build_model(\n",
    "  vocab_size=distinct_amino_acid_count,\n",
    "  embed_dim=EMBEDDING_DIM, rnn_units=RNN_UNITS, \n",
    "  batch_size=1\n",
    ")\n",
    "model.load_weights(checkpoint_prefix)\n",
    "model.build(tf.TensorShape([1, None]))"
   ]
  },
  {
   "cell_type": "code",
   "execution_count": 27,
   "metadata": {},
   "outputs": [
    {
     "name": "stderr",
     "output_type": "stream",
     "text": [
      "Using TensorFlow backend.\n"
     ]
    },
    {
     "data": {
      "image/png": "[encoded data removed]",
      "text/plain": [
       "<IPython.core.display.Image object>"
      ]
     },
     "execution_count": 27,
     "metadata": {
      "image/png": {
       "height": 196,
       "width": 215
      }
     },
     "output_type": "execute_result"
    }
   ],
   "source": [
    "from keras.utils import plot_model\n",
    "from IPython.display import Image\n",
    "plot_model(model, show_shapes=True, show_layer_names=True, to_file='rnnlm.png')\n",
    "Image(retina=True, filename='rnnlm.png')"
   ]
  },
  {
   "cell_type": "code",
   "execution_count": 30,
   "metadata": {},
   "outputs": [],
   "source": [
    "def generate_text(model, start_string):\n",
    "    # Evaluation step (generating text using the learned model)\n",
    "\n",
    "    # Number of characters to generate\n",
    "    num_generate = 1000\n",
    "\n",
    "    # Converting our start string to numbers (vectorizing)\n",
    "    input_eval = [amino_acid_to_index[s] for s in start_string]\n",
    "    input_eval = tf.expand_dims(input_eval, 0)\n",
    "\n",
    "    # Empty string to store our results\n",
    "    text_generated = []\n",
    "\n",
    "    # Low temperatures results in more predictable text.\n",
    "    # Higher temperatures results in more surprising text.\n",
    "    # Experiment to find the best setting.\n",
    "    temperature = 1.0\n",
    "\n",
    "    # Here batch size == 1\n",
    "    model.reset_states()\n",
    "    for i in range(num_generate):\n",
    "        predictions = model(input_eval)\n",
    "        # remove the batch dimension\n",
    "        predictions = tf.squeeze(predictions, 0)\n",
    "\n",
    "        # using a multinomial distribution to predict the word returned by the model\n",
    "        predictions = predictions / temperature\n",
    "        predicted_id = tf.multinomial(predictions, num_samples=1)[-1,0].numpy()\n",
    "\n",
    "        # We pass the predicted word as the next input to the model\n",
    "        # along with the previous hidden state\n",
    "        input_eval = tf.expand_dims([predicted_id], 0)\n",
    "\n",
    "        text_generated.append(index_to_amino_acid[predicted_id])\n",
    "\n",
    "    return (start_string + ''.join(text_generated))"
   ]
  },
  {
   "cell_type": "code",
   "execution_count": 31,
   "metadata": {
    "scrolled": false
   },
   "outputs": [
    {
     "name": "stdout",
     "output_type": "stream",
     "text": [
      "EKKSINEEFKEKFAYDELTAQYFYSSSTYAQKTRKVGTRIQIPSGNGGVPVIFASQINIKDRRLYRLVRPRWHYEVARWPGHAAPGVQQTDVELGPIIGCSTCRADHHLKWCAGFSIEKAGAAAAVNITAQGNSADVITFKYLLILKGKHPVTSEQDSTATWYGDSLIDLAKAVEGDHPEAQ.MTQNLTLFGVTEEFDAAAPATDESTQQGESSVDSDSDNSLLTEGASTIREFFSNAAASEIGHSGMHQYINDDSQLNVLKTMENTDFAVNCNSIITQGAKTCLAKIQKDGYNANDQSYVYVRANIYTRSVNKRLQKLEVFPQSTPSKAVSASHSHSCVEGQDLNSLRMDASTFFCVALDRRKPSETEGGEQMTGTATSAAKSTGVEGLVYYKPERPLMLMSGPNGEFIPPELFWEVSGYEAELINNQKLKYVYYSLQYLESGNDQECCUCAGUUUUGCGCAUGGUAGUUCCUUCUGGUCGCUCAGGAUAGCUGGCUAUGGCUCGGCGACACGGGUCGCCGCUCUGCUACCAUGCACGAAAGUAACGGUGGGAAGAAGGCCCAGCAACCUCCGAGCAGCAACAGCCAGCUAGGAAUAAGGGUCCGAACGGCCAGGACGUCUAGUUGAAAAAACCGCAAGCGCCCUAAGGCUGAGCUGGGGCUCUACCCGAACUCACACUUGACCCUCCUGGGUGKRKAPQFGVKFRLRELLRKYQERKLFVALEQAVMS.MVKIRLARFGSKHNPHYRIVVTDARRKRDGKYIEKIGYYDPRKTTPDWLKVDVERARYWLSVGAQPTDTARRLLRQAGVFRQEAREGA.MPLDVALKRKYYEEVRPELIRRFGYQNVWEVPRLEKVVINQGLGEAKEDNILWKPARGELRIGTAATVRSSLSDGDFQEKFRNYESTEKADGLQHEDSGLNVPYREAVQEDSAFWALSGTTCLCEVKTAVSGGERLIQSANIVYMDMAAELLTQQFDRASIIARASALAAELARKGGVDLAAICQGL\n"
     ]
    }
   ],
   "source": [
    "print(generate_text(model, start_string=u\"EKKSINE\"))"
   ]
  },
  {
   "cell_type": "code",
   "execution_count": null,
   "metadata": {},
   "outputs": [],
   "source": []
  }
 ],
 "metadata": {
  "kernelspec": {
   "display_name": "Python 3",
   "language": "python",
   "name": "python3"
  },
  "language_info": {
   "codemirror_mode": {
    "name": "ipython",
    "version": 3
   },
   "file_extension": ".py",
   "mimetype": "text/x-python",
   "name": "python",
   "nbconvert_exporter": "python",
   "pygments_lexer": "ipython3",
   "version": "3.7.3"
  }
 },
 "nbformat": 4,
 "nbformat_minor": 2
}
