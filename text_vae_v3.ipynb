{
 "cells": [
  {
   "cell_type": "markdown",
   "metadata": {},
   "source": [
    "# Generation of \"Similar\" Sentences Using The Variational Auto Encoder"
   ]
  },
  {
   "cell_type": "markdown",
   "metadata": {},
   "source": [
    "# Introduction\n",
    "\n",
    "I'm doing a thing to generate similar protein sequences, eventually."
   ]
  },
  {
   "cell_type": "code",
   "execution_count": null,
   "metadata": {},
   "outputs": [],
   "source": [
    "import keras\n",
    "\n",
    "from keras.preprocessing.sequence import pad_sequences\n",
    "from keras.preprocessing.text import Tokenizer\n",
    "\n",
    "from keras.layers import Bidirectional, Dense, Embedding\n",
    "from keras.layers import Input, Lambda, LSTM, RepeatVector\n",
    "from keras.layers import Flatten, TimeDistributed, Layer\n",
    "from keras.layers import Activation, Dropout\n",
    "from keras.layers.advanced_activations import ELU\n",
    "\n",
    "from keras.callbacks import ModelCheckpoint\n",
    "from keras.optimizers import Adam\n",
    "from keras import objectives\n",
    "\n",
    "from keras.models import Model\n",
    "\n",
    "from keras import backend as K\n",
    "from keras.utils import plot_model\n",
    "\n",
    "import numpy as np\n",
    "import pandas as pd\n",
    "\n",
    "import os\n",
    "from IPython.display import Image\n",
    "import matplotlib.pyplot as plt"
   ]
  },
  {
   "cell_type": "markdown",
   "metadata": {},
   "source": [
    "## Data"
   ]
  },
  {
   "cell_type": "markdown",
   "metadata": {},
   "source": [
    "### Overview\n",
    "\n",
    "Originally we were using a dataset of quora questions.\n",
    "However, it became immediately clear that the model was\n",
    "learning a single sentence which could minimize the loss\n",
    "function. So, we are trying another dataset which\n",
    "consists of Wikipedia sentences. It is worth noting that\n",
    "this dataset has not been vetted. It is also known that\n",
    "wikipedia articles contain some level of noise.\n",
    "\n",
    "The dataset consists of roughly 800,000 questions\n",
    "posted on Quora. This data was made publicly\n",
    "available via Kaggle at this \n",
    "[link](https://www.kaggle.com/quora/question-pairs-dataset).\n",
    "The original intent of this dataset was to find \n",
    "duplicate questions, but it works well for our \n",
    "purposes."
   ]
  },
  {
   "cell_type": "markdown",
   "metadata": {},
   "source": [
    "### Download\n",
    "\n",
    "There are multiple ways to download the data. My\n",
    "preference is to use the kaggle API.\n",
    "\n",
    "Start by searching for the dataset\n",
    "\n",
    "```\n",
    "kaggle datasets list -s quora\n",
    "```\n",
    "\n",
    "Once you find the dataset, download it with\n",
    "\n",
    "```\n",
    "kaggle datasets download quora/question-pairs-dataset\n",
    "```\n",
    "\n",
    "This downloads a zip file. I'm working on \n",
    "Ubuntu, so I can unzip with\n",
    "\n",
    "```\n",
    "unzip question-pairs-dataset.zip\n",
    "```"
   ]
  },
  {
   "cell_type": "markdown",
   "metadata": {},
   "source": [
    "### Preprocess\n",
    "\n",
    "There is a fair bit of work to be done to preprocess the data. "
   ]
  },
  {
   "cell_type": "code",
   "execution_count": 2,
   "metadata": {},
   "outputs": [
    {
     "data": {
      "text/plain": [
       "['0.000123, which corresponds to a distance of 705 Mly, or 216 Mpc.',\n",
       " '000webhost is a free web hosting service, operated by Hostinger.',\n",
       " '0010x0010 is a Dutch-born audiovisual artist, currently living in Los Angeles.',\n",
       " '0-0-1-3 is an alcohol abuse prevention program developed in 2004 at Francis E. Warren Air Force Base based on research by the National Institute on Alcohol Abuse and Alcoholism regarding binge drinking in college students.',\n",
       " '0.01 is the debut studio album of H3llb3nt, released on February 20, 1996 by Fifth Colvmn Records.',\n",
       " '001 of 3 February 1997, which was signed between the Government of the Republic of Rwanda, and FAPADER.',\n",
       " '003230 is a South Korean food manufacturer.',\n",
       " '0.04%Gas molecules in soil are in continuous thermal motion according to the kinetic theory of gasses, there is also collision between molecules - a random walk.',\n",
       " '0.04% of the votes were invalid.',\n",
       " '005.1999.06 is the fifth studio album by the South Korean singer and actress Uhm Jung-hwa.']"
      ]
     },
     "execution_count": 2,
     "metadata": {},
     "output_type": "execute_result"
    }
   ],
   "source": [
    "project_path = r'/home/das-hund/PycharmProjects/autoencoders'\n",
    "data_path = os.path.join(project_path, 'data')\n",
    "sentences_path = os.path.join(data_path, 'wikisent2.txt')\n",
    "\n",
    "with open(sentences_path, 'r') as wiki_sentence_file:\n",
    "    sentences = wiki_sentence_file.read().split('\\n')\n",
    "    \n",
    "sentences[0:10]"
   ]
  },
  {
   "cell_type": "markdown",
   "metadata": {},
   "source": [
    "### Tokenize\n",
    "\n",
    "We will split the texts by new lines. \n",
    "This gives us a record for each question. Then\n",
    "we fit a tokenizer on our texts, mapping words\n",
    "to integers.\n",
    "\n",
    "We aren't limiting the number of words, yet. \n",
    "We will see how the model performs, in the \n",
    "near future. In addition, I'm not going to\n",
    "limit sequence lengths, yet. I want to see\n",
    "how long the sequences are."
   ]
  },
  {
   "cell_type": "markdown",
   "metadata": {},
   "source": [
    "#### Sentence Analytics\n",
    "\n",
    "The easiest way to do any analysis on the \n",
    "sentences is to first fit the tokenizer on\n",
    "them. \n",
    "\n",
    "With a bit of analysis, we can see that most\n",
    "sequences have fewer than 50 words. "
   ]
  },
  {
   "cell_type": "code",
   "execution_count": 3,
   "metadata": {},
   "outputs": [],
   "source": [
    "tokenizer = Tokenizer()\n",
    "tokenizer.fit_on_texts(sentences)\n",
    "\n",
    "word_to_index = tokenizer.word_index\n",
    "index_to_word = {\n",
    "    index: word \n",
    "    for word, index in word_to_index.items()\n",
    "}"
   ]
  },
  {
   "cell_type": "code",
   "execution_count": 4,
   "metadata": {},
   "outputs": [
    {
     "name": "stdout",
     "output_type": "stream",
     "text": [
      "[+] Word Count: 1526234\n"
     ]
    }
   ],
   "source": [
    "word_count = len(word_to_index)\n",
    "print(f'[+] Word Count: {word_count}')"
   ]
  },
  {
   "cell_type": "code",
   "execution_count": 6,
   "metadata": {},
   "outputs": [],
   "source": [
    "MAX_WORDS = 20000 \n",
    "MAX_SEQ_LEN = 50 \n",
    "\n",
    "tokenizer.num_words = MAX_WORDS\n",
    "sequences = tokenizer.texts_to_sequences(sentences)"
   ]
  },
  {
   "cell_type": "code",
   "execution_count": 7,
   "metadata": {},
   "outputs": [
    {
     "name": "stdout",
     "output_type": "stream",
     "text": [
      "[[6, 5, 480, 1140, 4444, 236, 620, 9], [6, 5, 758, 26, 439, 148, 793, 3, 660, 721], [1058, 1058, 74, 133, 6, 14, 4254, 3985, 4624, 275, 366, 3, 286, 17, 1981, 374, 2904, 293, 533, 983, 69, 10, 255, 9, 1, 48, 491, 10, 4254, 3985, 4, 19473, 2945, 6249, 3, 130, 430], [1058, 7978, 6, 1, 323, 234, 40, 2, 43, 10, 180, 292, 423, 9, 839, 206], [2, 133, 180, 466, 23, 8, 846, 81, 1, 192, 2, 1, 603, 2, 6434, 4], [6, 5, 55, 1354, 882, 2027], [1058, 9242, 1644, 5707, 3, 2698, 20, 3, 4183, 6306, 2067, 532, 7, 1, 14922, 1240, 2, 9391, 112, 6, 24, 9340, 81, 5707, 5, 5107, 3605], [1058, 9242, 2, 1, 2038, 34, 15386], [407, 8935, 6, 1, 839, 234, 40, 9, 1, 55, 1354, 349, 4, 658, 9763]]\n",
      "[+] Max Sequence Length: 50\n",
      "[+] Word Count: 1526234\n"
     ]
    },
    {
     "data": {
      "text/plain": [
       "(array([  56071., 1114504., 2048662., 1837118., 1262331.,  733341.,\n",
       "         395200.,  204563.,  104114.,   60261.]),\n",
       " array([ 0.,  5., 10., 15., 20., 25., 30., 35., 40., 45., 50.]),\n",
       " <a list of 10 Patch objects>)"
      ]
     },
     "execution_count": 7,
     "metadata": {},
     "output_type": "execute_result"
    },
    {
     "data": {
      "image/png": "[encoded data removed]",
      "text/plain": [
       "<Figure size 432x288 with 1 Axes>"
      ]
     },
     "metadata": {
      "needs_background": "light"
     },
     "output_type": "display_data"
    }
   ],
   "source": [
    "print(sequences[1:10])\n",
    "\n",
    "sequence_lengths = []\n",
    "for sequence in sequences:\n",
    "    seq_len = len(sequence)\n",
    "    if seq_len <= 50:\n",
    "        sequence_lengths.append(seq_len)\n",
    "sequence_lengths = np.array(sequence_lengths)\n",
    "        \n",
    "max_seq_len = max(sequence_lengths)\n",
    "word_count = len(word_to_index)\n",
    "\n",
    "print(f'[+] Max Sequence Length: {max_seq_len}')\n",
    "print(f'[+] Word Count: {word_count}')\n",
    "\n",
    "%matplotlib inline\n",
    "plt.hist(sequence_lengths)"
   ]
  },
  {
   "cell_type": "code",
   "execution_count": 8,
   "metadata": {},
   "outputs": [
    {
     "ename": "TypeError",
     "evalue": "'NoneType' object is not subscriptable",
     "output_type": "error",
     "traceback": [
      "\u001b[0;31m---------------------------------------------------------------------------\u001b[0m",
      "\u001b[0;31mTypeError\u001b[0m                                 Traceback (most recent call last)",
      "\u001b[0;32m<ipython-input-8-addc431060bc>\u001b[0m in \u001b[0;36m<module>\u001b[0;34m\u001b[0m\n\u001b[1;32m      4\u001b[0m \u001b[0;34m\u001b[0m\u001b[0m\n\u001b[1;32m      5\u001b[0m \u001b[0msequences\u001b[0m \u001b[0;34m=\u001b[0m \u001b[0mnp\u001b[0m\u001b[0;34m.\u001b[0m\u001b[0mrandom\u001b[0m\u001b[0;34m.\u001b[0m\u001b[0mshuffle\u001b[0m\u001b[0;34m(\u001b[0m\u001b[0msequences\u001b[0m\u001b[0;34m)\u001b[0m\u001b[0;34m\u001b[0m\u001b[0;34m\u001b[0m\u001b[0m\n\u001b[0;32m----> 6\u001b[0;31m \u001b[0mtrain_sequences\u001b[0m \u001b[0;34m=\u001b[0m \u001b[0msequences\u001b[0m\u001b[0;34m[\u001b[0m\u001b[0;34m:\u001b[0m\u001b[0mDATA_LEN\u001b[0m\u001b[0;34m]\u001b[0m\u001b[0;34m\u001b[0m\u001b[0;34m\u001b[0m\u001b[0m\n\u001b[0m\u001b[1;32m      7\u001b[0m \u001b[0mtest_sequences\u001b[0m \u001b[0;34m=\u001b[0m \u001b[0msequences\u001b[0m\u001b[0;34m[\u001b[0m\u001b[0mDATA_LEN\u001b[0m\u001b[0;34m:\u001b[0m\u001b[0mTRAIN_LEN\u001b[0m\u001b[0;34m]\u001b[0m\u001b[0;34m\u001b[0m\u001b[0;34m\u001b[0m\u001b[0m\n",
      "\u001b[0;31mTypeError\u001b[0m: 'NoneType' object is not subscriptable"
     ]
    }
   ],
   "source": [
    "# Shuffle the data and get train test split.\n",
    "DATA_LEN = 128000\n",
    "TRAIN_LEN = 1280\n",
    "\n",
    "sequences = np.random.shuffle(sequences)\n",
    "train_sequences = sequences[:DATA_LEN]\n",
    "test_sequences = sequences[DATA_LEN:TRAIN_LEN]\n",
    "\n",
    "# Gotta free some memory here\n",
    "del sequences"
   ]
  },
  {
   "cell_type": "code",
   "execution_count": 10,
   "metadata": {},
   "outputs": [],
   "source": [
    "sequences"
   ]
  },
  {
   "cell_type": "code",
   "execution_count": null,
   "metadata": {
    "scrolled": false
   },
   "outputs": [],
   "source": [
    "print(f'[+] {len(word_to_index)} words found in {merged_questions_path}')\n",
    "\n",
    "print('[+] Word Map Subset:\\n{')\n",
    "for _, (word, index) in zip(range(40), word_to_index.items()):\n",
    "    print('\\t{}: {}'.format(word, index))\n",
    "print('\\t...\\n}')"
   ]
  },
  {
   "cell_type": "markdown",
   "metadata": {},
   "source": [
    "#### Sequence Generation"
   ]
  },
  {
   "cell_type": "markdown",
   "metadata": {},
   "source": [
    "#### Pad Sequences"
   ]
  },
  {
   "cell_type": "code",
   "execution_count": null,
   "metadata": {},
   "outputs": [],
   "source": [
    "train_padded_sequences = pad_sequences(\n",
    "    train_sequences, maxlen=MAX_SEQ_LEN, padding='post'\n",
    ")\n",
    "test_padded_sequences = pad_sequences(\n",
    "    test_sequences, maxlen=MAX_SEQ_LEN, padding='post'\n",
    ")"
   ]
  },
  {
   "cell_type": "code",
   "execution_count": null,
   "metadata": {},
   "outputs": [],
   "source": [
    "print(padded_sequences[0:5])\n",
    "print(padded_sequences.shape)"
   ]
  },
  {
   "cell_type": "markdown",
   "metadata": {},
   "source": [
    "## Model Architecture"
   ]
  },
  {
   "cell_type": "markdown",
   "metadata": {},
   "source": [
    "Note I'm not using the GLOVE embeddings here.\n",
    "That would make it difficult to transition this\n",
    "model to protein sequences. "
   ]
  },
  {
   "cell_type": "code",
   "execution_count": null,
   "metadata": {},
   "outputs": [],
   "source": [
    "from keras.layers.advanced_activations import ELU\n",
    "\n",
    "\n",
    "def build_encoder(embedding, max_seq_len, \n",
    "                  latent_dim, intermediate_dim,\n",
    "                  epsilon_std):\n",
    "    h = Bidirectional(LSTM(\n",
    "        intermediate_dim, return_sequences=True, name='lstm_encoding_one'\n",
    "    ), merge_mode='concat', name='bidirectional_encoding_one')(embedding)\n",
    "    h = Bidirectional(LSTM(\n",
    "        intermediate_dim, return_sequences=False, name='lstm_encoding_two'\n",
    "    ), merge_mode='concat', name='bidirectional_encoding_two')(h)\n",
    "    h = Dense(\n",
    "        intermediate_dim, activation='relu', name='dense_encoding'\n",
    "    )(h)\n",
    "\n",
    "    def sampling(args):\n",
    "        z_mean_, z_log_var_ = args\n",
    "        batch_size = K.shape(z_mean_)[0]\n",
    "        epsilon = K.random_normal(shape=(batch_size, latent_dim), mean=0., stddev=epsilon_std)\n",
    "        return z_mean_ + K.exp(z_log_var_ / 2) * epsilon\n",
    "    \n",
    "    z_mean = Dense(latent_dim, activation='linear', name='z_mean')(h)\n",
    "    z_log_var = Dense(latent_dim, activation='linear', name='z_log_var')(h)\n",
    "    \n",
    "    def vae_loss(x, x_decoded_mean):\n",
    "        x = K.flatten(x)\n",
    "        x_decoded_mean = K.flatten(x_decoded_mean)\n",
    "        xent_loss = max_seq_len * objectives.binary_crossentropy(x, x_decoded_mean)\n",
    "        kl_loss = - 0.5 * K.mean(1 + z_log_var - K.square(z_mean) - K.exp(z_log_var), axis=-1)\n",
    "        return xent_loss + kl_loss\n",
    "    \n",
    "    latent = Lambda(\n",
    "        sampling, output_shape=(latent_dim,), name='latent'\n",
    "    )([z_mean, z_log_var])\n",
    "    \n",
    "    return vae_loss, latent\n",
    "\n",
    "\n",
    "def build_decoder(encoded_input, intermediate_dim,\n",
    "                  token_count, max_seq_len):\n",
    "    repeated_context = RepeatVector(\n",
    "        max_seq_len, name='repeated_context'\n",
    "    )(encoded_input)\n",
    "    \n",
    "    h = LSTM(\n",
    "        intermediate_dim, return_sequences=True, name='lstm_decoding_one'\n",
    "    )(repeated_context)\n",
    "    h = LSTM(\n",
    "        intermediate_dim, return_sequences=True, name='lstm_decoding_two'\n",
    "    )(h)\n",
    "    \n",
    "    decoded = TimeDistributed(Dense(\n",
    "        token_count, activation='softmax', name='time_distributed_decoding'\n",
    "    ), name='decoded_mean')(h)\n",
    "    \n",
    "    return decoded\n",
    "    \n",
    "    \n",
    "def build_model(max_seq_len, embedding_dim, token_count,\n",
    "                batch_size, intermediate_dim, \n",
    "                latent_dim, epsilon_std=0.1):\n",
    "    # ENCODER\n",
    "    encoder_input = Input(shape=(max_seq_len,), name='encoder_input')\n",
    "    embedding = Embedding(\n",
    "        token_count, embedding_dim,\n",
    "        input_length=max_seq_len, name='embedding'\n",
    "    )(encoder_input)\n",
    "    \n",
    "    vae_loss, encoded = build_encoder(\n",
    "        embedding=embedding, max_seq_len=max_seq_len,\n",
    "        latent_dim=latent_dim, intermediate_dim=intermediate_dim,\n",
    "        epsilon_std=epsilon_std\n",
    "    )\n",
    "    \n",
    "    encoder = Model(encoder_input, encoded, name='encoder')\n",
    "    \n",
    "    # DECODER\n",
    "    encoded_input = Input(shape=(latent_dim,), name='encoded_input')\n",
    "    decoded = build_decoder(\n",
    "        encoded_input=encoded_input, intermediate_dim=intermediate_dim,\n",
    "        token_count=token_count, max_seq_len=max_seq_len\n",
    "    )\n",
    "    \n",
    "    decoder = Model(encoded_input, decoded, name='decoder')\n",
    "    \n",
    "    # VAE\n",
    "    vae = Model(\n",
    "        encoder_input, \n",
    "        build_decoder(\n",
    "            encoded_input=encoded, intermediate_dim=intermediate_dim,\n",
    "            token_count=token_count, max_seq_len=max_seq_len\n",
    "        ), \n",
    "        name='vae')\n",
    "    vae.compile(\n",
    "        optimizer='Adam',\n",
    "        loss=vae_loss,\n",
    "        metrics=['accuracy']\n",
    "    )\n",
    "    \n",
    "    return vae, encoder, decoder\n"
   ]
  },
  {
   "cell_type": "code",
   "execution_count": null,
   "metadata": {},
   "outputs": [],
   "source": [
    "MAX_SEQUENCE_LENGTH = MAX_SEQ_LEN\n",
    "EMBED_DIM = 16\n",
    "WORD_COUNT = MAX_WORDS\n",
    "BATCH_SIZE = 128\n",
    "STEPS_PER_EPOCH=DATA_LEN // BATCH_SIZE\n",
    "INTERMEDIATE_DIM = 16\n",
    "LATENT_DIM = 8\n",
    "\n",
    "vae, encoder, decoder = build_model(\n",
    "    max_seq_len=MAX_SEQUENCE_LENGTH,\n",
    "    embedding_dim=EMBED_DIM,\n",
    "    token_count=WORD_COUNT,\n",
    "    batch_size=BATCH_SIZE,\n",
    "    intermediate_dim=INTERMEDIATE_DIM,\n",
    "    latent_dim=LATENT_DIM,\n",
    "    epsilon_std=0.7\n",
    ")"
   ]
  },
  {
   "cell_type": "code",
   "execution_count": null,
   "metadata": {},
   "outputs": [],
   "source": [
    "def complex_oh_encode(X_train, maxlen, num_words):\n",
    "    temp = np.zeros((X_train.shape[0], maxlen, num_words))\n",
    "    temp[\n",
    "        np.expand_dims(\n",
    "            np.arange(X_train.shape[0]), axis=0\n",
    "        ).reshape(\n",
    "            X_train.shape[0], 1\n",
    "        ), np.repeat(\n",
    "            np.array([np.arange(maxlen)]), X_train.shape[0], axis=0\n",
    "        ), X_train\n",
    "    ] = 1\n",
    "    return temp"
   ]
  },
  {
   "cell_type": "code",
   "execution_count": null,
   "metadata": {},
   "outputs": [],
   "source": [
    "# Will need this when we get the model working.\n",
    "def batch_generator(X, batch_size, max_seq_len, num_words):\n",
    "    indices = np.arange(len(X)) \n",
    "    batch=[]\n",
    "    while True:\n",
    "        np.random.shuffle(indices) \n",
    "        for i in indices:\n",
    "            batch.append(i)\n",
    "            if len(batch)==batch_size:\n",
    "                yield X[batch], complex_oh_encode(X[batch], maxlen=max_seq_len, num_words=num_words)\n",
    "                batch=[]\n",
    "\n",
    "train_generator = batch_generator(\n",
    "    X=padded_sequences, batch_size=BATCH_SIZE,\n",
    "    max_seq_len=MAX_SEQUENCE_LENGTH,\n",
    "    num_words=WORD_COUNT\n",
    ")"
   ]
  },
  {
   "cell_type": "code",
   "execution_count": null,
   "metadata": {},
   "outputs": [],
   "source": [
    "plot_model(vae, show_shapes=True, show_layer_names=True, to_file='vae.png')\n",
    "Image(retina=True, filename='vae.png')"
   ]
  },
  {
   "cell_type": "code",
   "execution_count": null,
   "metadata": {},
   "outputs": [],
   "source": [
    "vae.summary()"
   ]
  },
  {
   "cell_type": "code",
   "execution_count": null,
   "metadata": {},
   "outputs": [],
   "source": [
    "history = vae.fit_generator(\n",
    "    train_generator, \n",
    "    steps_per_epoch=STEPS_PER_EPOCH, \n",
    "    epochs=12\n",
    ")"
   ]
  },
  {
   "cell_type": "code",
   "execution_count": null,
   "metadata": {},
   "outputs": [],
   "source": [
    "preds = vae.predict(padded_sequences[0:10])\n"
   ]
  },
  {
   "cell_type": "code",
   "execution_count": null,
   "metadata": {},
   "outputs": [],
   "source": [
    "' '.join([\n",
    "    index_to_word[i] if i != 0 else ''\n",
    "    for i in padded_sequences[8]\n",
    "]).strip()"
   ]
  },
  {
   "cell_type": "code",
   "execution_count": null,
   "metadata": {},
   "outputs": [],
   "source": [
    "for i in range(9):\n",
    "    pred_chars = [np.argmax(l) for l in preds[i]]\n",
    "    print(' '.join([\n",
    "        index_to_word[i] if i != 0 else '' \n",
    "        for i in pred_chars\n",
    "    ]).strip())"
   ]
  },
  {
   "cell_type": "code",
   "execution_count": null,
   "metadata": {},
   "outputs": [],
   "source": []
  }
 ],
 "metadata": {
  "kernelspec": {
   "display_name": "Python 3",
   "language": "python",
   "name": "python3"
  },
  "language_info": {
   "codemirror_mode": {
    "name": "ipython",
    "version": 3
   },
   "file_extension": ".py",
   "mimetype": "text/x-python",
   "name": "python",
   "nbconvert_exporter": "python",
   "pygments_lexer": "ipython3",
   "version": "3.7.3"
  }
 },
 "nbformat": 4,
 "nbformat_minor": 2
}
