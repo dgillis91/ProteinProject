{
 "cells": [
  {
   "cell_type": "markdown",
   "metadata": {},
   "source": [
    "# Generation of \"Similar\" Sequences Using The Recurrent Variational Auto Encoder"
   ]
  },
  {
   "cell_type": "markdown",
   "metadata": {},
   "source": [
    "# Introduction\n",
    "\n",
    "I'm doing a thing to generate similar protein sequences, eventually."
   ]
  },
  {
   "cell_type": "code",
   "execution_count": 1,
   "metadata": {},
   "outputs": [
    {
     "name": "stderr",
     "output_type": "stream",
     "text": [
      "Using TensorFlow backend.\n"
     ]
    }
   ],
   "source": [
    "# To Try:\n",
    "# ! Break into training files\n",
    "# ! with different seq lens. \n",
    "# ! Start with longer sequences.\n",
    "import keras\n",
    "\n",
    "from keras.preprocessing.sequence import pad_sequences\n",
    "from keras.preprocessing.text import Tokenizer\n",
    "\n",
    "from keras.layers import Bidirectional, Dense, Embedding\n",
    "from keras.layers import Input, Lambda, LSTM, RepeatVector\n",
    "from keras.layers import Flatten, TimeDistributed, Layer, BatchNormalization\n",
    "from keras.layers import Activation, Dropout, Activation\n",
    "from keras.layers.advanced_activations import ELU\n",
    "\n",
    "from keras.callbacks import ModelCheckpoint, ReduceLROnPlateau\n",
    "from keras.optimizers import Adam, RMSprop\n",
    "from keras import objectives\n",
    "\n",
    "from keras.models import Model, load_model\n",
    "\n",
    "from keras import backend as K\n",
    "from keras.utils import plot_model, get_file\n",
    "\n",
    "import numpy as np\n",
    "import pandas as pd\n",
    "\n",
    "import os\n",
    "from IPython.display import Image\n",
    "import matplotlib.pyplot as plt"
   ]
  },
  {
   "cell_type": "markdown",
   "metadata": {},
   "source": [
    "## Data"
   ]
  },
  {
   "cell_type": "markdown",
   "metadata": {},
   "source": [
    "### Overview\n",
    "\n",
    "We are working with a file that contains\n",
    "sequences. Each sequence is on a new line.\n",
    "Because of the way the sequences are pulled,\n",
    "there are additional \"-\" characters used for\n",
    "alignment. We will strip these out, and pad\n",
    "the front of the sequences."
   ]
  },
  {
   "cell_type": "code",
   "execution_count": 2,
   "metadata": {},
   "outputs": [
    {
     "data": {
      "text/plain": [
       "\"\\nurl = 'https://raw.githubusercontent.com/badriadhikari'\\ndeepcon_path = 'DEEPCON/master/deepcon-covariance/test'\\nfile = '16pkA0.aln'\\nfilepath = os.path.join(url, deepcon_path, file)\\n#file = get_file(file, filepath)\\nfile = '/home/das-hund/PycharmProjects/autoencoders/data/pdb_seqres.txt'\\n\\nwith open(file, 'r') as sequence_file:\\n    sequences = sequence_file.read()                              .replace('-', '')                              .split('\\n')\\n\\nsequence_count = len(sequences)\\nprint(f'[+] {sequence_count} Sequences in {file}')\\nprint(f'[+] Subset of Sequences:')\\nprint('\\n\\n'.join(sequences[:5]))\\n\""
      ]
     },
     "execution_count": 2,
     "metadata": {},
     "output_type": "execute_result"
    }
   ],
   "source": [
    "'''\n",
    "url = 'https://raw.githubusercontent.com/badriadhikari'\n",
    "deepcon_path = 'DEEPCON/master/deepcon-covariance/test'\n",
    "file = '16pkA0.aln'\n",
    "filepath = os.path.join(url, deepcon_path, file)\n",
    "#file = get_file(file, filepath)\n",
    "file = '/home/das-hund/PycharmProjects/autoencoders/data/pdb_seqres.txt'\n",
    "\n",
    "with open(file, 'r') as sequence_file:\n",
    "    sequences = sequence_file.read() \\\n",
    "                             .replace('-', '') \\\n",
    "                             .split('\\n')\n",
    "\n",
    "sequence_count = len(sequences)\n",
    "print(f'[+] {sequence_count} Sequences in {file}')\n",
    "print(f'[+] Subset of Sequences:')\n",
    "print('\\n\\n'.join(sequences[:5]))\n",
    "'''"
   ]
  },
  {
   "cell_type": "code",
   "execution_count": 3,
   "metadata": {},
   "outputs": [
    {
     "name": "stdout",
     "output_type": "stream",
     "text": [
      "[+] 509350 Sequences in /home/das-hund/PycharmProjects/autoencoders/data/pdb_seqres.txt\n",
      "[+] Subset of Sequences:\n",
      "MVLSEGEWQLVLHVWAKVEADVAGHGQDILIRLFKSHPETLEKFDRVKHLKTEAEMKASEDLKKHGVTVLTALGAILKKKGHHEAELKPLAQSHATKHKIPIKYLEFISEAIIHVLHSRHPGNFGADAQGAMNKALELFRKDIAAKYKELGYQG\n",
      "\n",
      "MNIFEMLRIDEGLRLKIYKDTEGYYTIGIGHLLTKSPSLNAAAKSELDKAIGRNTNGVITKDEAEKLFNQDVDAAVRGILRNAKLKPVYDSLDAVRRAALINMVFQMGETGVAGFTNSLRMLQQKRWDEAAVNLAKSRWYNQTPNRAKRVITTFRTGTWDAYKNL\n",
      "\n",
      "MVLSEGEWQLVLHVWAKVEADVAGHGQDILIRLFKSHPETLEKFDRFKHLKTEAEMKASEDLKKAGVTVLTALGAILKKKGHHEAELKPLAQSHATKHKIPIKYLEFISEAIIHVLHSRHPGNFGADAQGAMNKALELFRKDIAAKYKELGYQG\n",
      "\n",
      "MNIFEMLRIDEGLRLKIYKDTEGYYTIGIGHLLTKSPSLNSLDAAKSELDKAIGRNTNGVITKDEAEKLFNQDVDAAVRGILRNAKLKPVYDSLDAVRRAALINMVFQMGETGVAGFTNSLRMLQQKRWDEAAVNLAKSRWYNQTPNRAKRVITTFRTGTWDAYKNL\n",
      "\n",
      "MVLSEGEWQLVLHVWAKVEADVAGHGQDILIRLFKSHPETLEKFDRFKHLKTEAEMKASEDLKKAGVTVLTALGAILKKKGHHEAELKPLAQSHATKHKIPIKYLEFISEAIIHVLHSRHPGNFGADAQGAMNKALELFRKDIAAKYKELGYQG\n",
      "CAGATG\n",
      "\n",
      "CATTAGA\n",
      "\n",
      "TCTAATG\n",
      "\n",
      "CCATGCGCTGAC\n",
      "\n",
      "GTCAGNGCATGG\n"
     ]
    }
   ],
   "source": [
    "# ! Appears to be the case that we have\n",
    "# Sequences of varying length. May need\n",
    "# to train long seqs first.\n",
    "file = '/home/das-hund/PycharmProjects/autoencoders/data/pdb_seqres.txt'\n",
    "\n",
    "sequences = []\n",
    "iter_ = 0\n",
    "with open(file, 'r') as sequence_file:\n",
    "    for iter_, line in enumerate(sequence_file):\n",
    "        if (iter_ + 1) % 2 == 0:\n",
    "            sequences.append(line.strip())\n",
    "    \n",
    "sequence_count = len(sequences)\n",
    "print(f'[+] {sequence_count} Sequences in {file}')\n",
    "print(f'[+] Subset of Sequences:')\n",
    "print('\\n\\n'.join(sequences[:5]))\n",
    "print('\\n\\n'.join(sequences[-5:]))"
   ]
  },
  {
   "cell_type": "markdown",
   "metadata": {},
   "source": [
    "### Tokenize\n",
    "\n",
    "After splitting the texts by new lines, we\n",
    "want to map the characters to integers. Note\n",
    "that we use the `char_level` argument to \n",
    "tokenize characters instead of words. \n",
    "\n",
    "Fortunately, we don't need to limit the \n",
    "number of tokens. There aren't many amino\n",
    "acids available. Worth noting, the last \n",
    "layer is currently one hot encoded. This\n",
    "is **absolutely** worth optimizing; \n",
    "however, time is a factor. \n",
    "\n",
    "We will also pad the sequences. To start,\n",
    "we also won't be limiting sequence length.\n",
    "I'll do some simple analysis to get a\n",
    "distribution of sequence length. This will\n",
    "give us an idea of whether it's worth\n",
    "limiting the length. "
   ]
  },
  {
   "cell_type": "markdown",
   "metadata": {},
   "source": [
    "#### Train the Tokenizer"
   ]
  },
  {
   "cell_type": "code",
   "execution_count": 4,
   "metadata": {},
   "outputs": [],
   "source": [
    "tokenizer = Tokenizer(char_level=True)\n",
    "tokenizer.fit_on_texts(sequences)\n",
    "word_to_index = tokenizer.word_index\n",
    "index_to_word = {\n",
    "    index: word \n",
    "    for word, index in word_to_index.items()\n",
    "}"
   ]
  },
  {
   "cell_type": "code",
   "execution_count": 5,
   "metadata": {},
   "outputs": [],
   "source": [
    "sequences = tokenizer.texts_to_sequences(sequences)"
   ]
  },
  {
   "cell_type": "markdown",
   "metadata": {},
   "source": [
    "#### Summary Stats "
   ]
  },
  {
   "cell_type": "code",
   "execution_count": 6,
   "metadata": {},
   "outputs": [
    {
     "name": "stdout",
     "output_type": "stream",
     "text": [
      "[+] Max Sequence Length: 5070\n",
      "[+] Word Count: 25\n"
     ]
    },
    {
     "data": {
      "image/png": "[encoded data removed]",
      "text/plain": [
       "<Figure size 432x288 with 1 Axes>"
      ]
     },
     "metadata": {
      "needs_background": "light"
     },
     "output_type": "display_data"
    }
   ],
   "source": [
    "sequence_lengths = np.array([\n",
    "    len(seq) for seq in sequences\n",
    "])\n",
    "\n",
    "max_seq_len = max(sequence_lengths)\n",
    "word_count = len(word_to_index)\n",
    "\n",
    "print(f'[+] Max Sequence Length: {max_seq_len}')\n",
    "print(f'[+] Word Count: {word_count}')\n",
    "\n",
    "%matplotlib inline\n",
    "plt.hist(sequence_lengths)\n",
    "\n",
    "# ToDo: Update the names of these params.\n",
    "MAX_WORDS = word_count\n",
    "MAX_SEQ_LEN = 256#max_seq_len"
   ]
  },
  {
   "cell_type": "code",
   "execution_count": 7,
   "metadata": {
    "scrolled": false
   },
   "outputs": [
    {
     "name": "stdout",
     "output_type": "stream",
     "text": [
      "[+] 25 words found in /home/das-hund/PycharmProjects/autoencoders/data/pdb_seqres.txt\n",
      "[+] Word Map Subset:\n",
      "{\n",
      "\ta: 1\n",
      "\tl: 2\n",
      "\tg: 3\n",
      "\tv: 4\n",
      "\te: 5\n",
      "\ts: 6\n",
      "\tk: 7\n",
      "\tt: 8\n",
      "\ti: 9\n",
      "\td: 10\n",
      "\tr: 11\n",
      "\tp: 12\n",
      "\tn: 13\n",
      "\tf: 14\n",
      "\tq: 15\n",
      "\ty: 16\n",
      "\th: 17\n",
      "\tc: 18\n",
      "\tm: 19\n",
      "\tw: 20\n",
      "\tu: 21\n",
      "\tx: 22\n",
      "\tz: 23\n",
      "\tb: 24\n",
      "\to: 25\n",
      "}\n"
     ]
    }
   ],
   "source": [
    "print(f'[+] {len(word_to_index)} words found in {file}')\n",
    "\n",
    "print('[+] Word Map Subset:\\n{')\n",
    "for acid, index in word_to_index.items():\n",
    "    print('\\t{}: {}'.format(acid, index))\n",
    "print('}')"
   ]
  },
  {
   "cell_type": "markdown",
   "metadata": {},
   "source": [
    "#### Data Subset\n",
    "\n",
    "When training the RNNS, we will need to limit the\n",
    "length of the data to a multiple of what our batch\n",
    "size will be. In the future, we will also perform \n",
    "the train test split here. But, for now, we just\n",
    "select a random subset of the data. This will serve\n",
    "as our development set. "
   ]
  },
  {
   "cell_type": "code",
   "execution_count": 8,
   "metadata": {},
   "outputs": [],
   "source": [
    "DATA_LEN = 486400\n",
    "np.random.shuffle(sequences)\n",
    "sequences = sequences[:DATA_LEN]"
   ]
  },
  {
   "cell_type": "markdown",
   "metadata": {},
   "source": [
    "#### Pad Sequences"
   ]
  },
  {
   "cell_type": "code",
   "execution_count": 9,
   "metadata": {},
   "outputs": [],
   "source": [
    "padded_sequences = pad_sequences(sequences, maxlen=MAX_SEQ_LEN)"
   ]
  },
  {
   "cell_type": "code",
   "execution_count": 10,
   "metadata": {},
   "outputs": [
    {
     "name": "stdout",
     "output_type": "stream",
     "text": [
      "[[ 2  2  8 ...  3  8  2]\n",
      " [ 0  0  0 ... 10  1 14]\n",
      " [ 4  4  3 ...  7  5  3]\n",
      " [ 4  6 12 ...  1  1  7]\n",
      " [ 1  8  2 ...  3 19 19]]\n",
      "(486400, 256)\n"
     ]
    }
   ],
   "source": [
    "print(padded_sequences[0:5])\n",
    "print(padded_sequences.shape)"
   ]
  },
  {
   "cell_type": "code",
   "execution_count": 11,
   "metadata": {},
   "outputs": [],
   "source": [
    "#padded_sequences = padded_sequences.reshape((512, 256, 1))"
   ]
  },
  {
   "cell_type": "markdown",
   "metadata": {},
   "source": [
    "## Model Architecture"
   ]
  },
  {
   "cell_type": "markdown",
   "metadata": {},
   "source": [
    "Note I'm not using the GLOVE embeddings here.\n",
    "That would make it difficult to transition this\n",
    "model to protein sequences. "
   ]
  },
  {
   "cell_type": "code",
   "execution_count": 12,
   "metadata": {},
   "outputs": [],
   "source": [
    "from keras.layers.advanced_activations import ELU\n",
    "\n",
    "\n",
    "def build_encoder(encoder_input, max_seq_len, \n",
    "                  latent_dim, intermediate_dim,\n",
    "                  epsilon_std):\n",
    "    h = Bidirectional(LSTM(\n",
    "        intermediate_dim, return_sequences=True, name='lstm_encoding_one'\n",
    "    ), merge_mode='concat', name='bidirectional_encoding_one')(encoder_input)\n",
    "    h = Bidirectional(LSTM(\n",
    "        intermediate_dim // 2, return_sequences=False, name='lstm_encoding_two'\n",
    "    ), merge_mode='concat', name='bidirectional_encoding_two')(h)\n",
    "\n",
    "    def sampling(args):\n",
    "        z_mean_, z_log_var_ = args\n",
    "        batch_size = K.shape(z_mean_)[0]\n",
    "        epsilon = K.random_normal(shape=(batch_size, latent_dim), mean=0., stddev=epsilon_std)\n",
    "        return z_mean_ + K.exp(z_log_var_ / 2) * epsilon\n",
    "    \n",
    "    z_mean = Dense(latent_dim, activation='linear', name='z_mean')(h)\n",
    "    z_log_var = Dense(latent_dim, activation='linear', name='z_log_var')(h)\n",
    "    \n",
    "    def vae_loss(x, x_decoded_mean):\n",
    "        x = K.flatten(x)\n",
    "        x_decoded_mean = K.flatten(x_decoded_mean)\n",
    "        xent_loss = max_seq_len * objectives.binary_crossentropy(x, x_decoded_mean)\n",
    "        kl_loss = - 0.5 * K.mean(1 + z_log_var - K.square(z_mean) - K.exp(z_log_var), axis=-1)\n",
    "        return xent_loss + kl_loss\n",
    "    \n",
    "    latent = Lambda(\n",
    "        sampling, output_shape=(latent_dim,), name='latent'\n",
    "    )([z_mean, z_log_var])\n",
    "    \n",
    "    return vae_loss, latent\n",
    "\n",
    "\n",
    "def build_decoder(encoded_input, intermediate_dim,\n",
    "                  token_count, max_seq_len):\n",
    "    repeated_context = RepeatVector(\n",
    "        max_seq_len, name='repeated_context'\n",
    "    )(encoded_input)\n",
    "    \n",
    "    h = LSTM(\n",
    "        intermediate_dim // 2, return_sequences=True, name='lstm_decoding_one'\n",
    "    )(repeated_context)\n",
    "    h = LSTM(\n",
    "        intermediate_dim, return_sequences=True, name='lstm_decoding_two'\n",
    "    )(h)\n",
    "    \n",
    "    decoded = TimeDistributed(Dense(\n",
    "        token_count, activation='softmax', name='time_distributed_decoding'\n",
    "    ), name='decoded_mean')(h)\n",
    "    \n",
    "    return decoded\n",
    "    \n",
    "    \n",
    "def build_model(max_seq_len, embedding_dim, token_count,\n",
    "                batch_size, intermediate_dim, \n",
    "                latent_dim, epsilon_std=0.1):\n",
    "    # ENCODER\n",
    "    encoder_input = Input(shape=(max_seq_len, 1), name='encoder_input')\n",
    "    \n",
    "    vae_loss, encoded = build_encoder(\n",
    "        encoder_input=encoder_input, max_seq_len=max_seq_len,\n",
    "        latent_dim=latent_dim, intermediate_dim=intermediate_dim,\n",
    "        epsilon_std=epsilon_std\n",
    "    )\n",
    "    \n",
    "    encoder = Model(encoder_input, encoded, name='encoder')\n",
    "    \n",
    "    # DECODER\n",
    "    encoded_input = Input(shape=(latent_dim,), name='encoded_input')\n",
    "    decoded = build_decoder(\n",
    "        encoded_input=encoded_input, intermediate_dim=intermediate_dim,\n",
    "        token_count=token_count, max_seq_len=max_seq_len\n",
    "    )\n",
    "    \n",
    "    decoder = Model(encoded_input, decoded, name='decoder')\n",
    "    \n",
    "    # VAE\n",
    "    vae = Model(\n",
    "        encoder_input, \n",
    "        build_decoder(\n",
    "            encoded_input=encoded, intermediate_dim=intermediate_dim,\n",
    "            token_count=token_count, max_seq_len=max_seq_len\n",
    "        ), \n",
    "        name='vae')\n",
    "    vae.compile(\n",
    "        optimizer='adam',\n",
    "        loss=vae_loss,\n",
    "        metrics=['accuracy']\n",
    "    )\n",
    "    \n",
    "    return vae, encoder, decoder\n"
   ]
  },
  {
   "cell_type": "code",
   "execution_count": 13,
   "metadata": {},
   "outputs": [
    {
     "name": "stdout",
     "output_type": "stream",
     "text": [
      "WARNING:tensorflow:From /home/das-hund/.conda/envs/notebook/lib/python3.7/site-packages/tensorflow/python/framework/op_def_library.py:263: colocate_with (from tensorflow.python.framework.ops) is deprecated and will be removed in a future version.\n",
      "Instructions for updating:\n",
      "Colocations handled automatically by placer.\n"
     ]
    }
   ],
   "source": [
    "MAX_SEQUENCE_LENGTH = MAX_SEQ_LEN\n",
    "# EMBID_DIM is an artifact\n",
    "EMBED_DIM = 4\n",
    "WORD_COUNT = MAX_WORDS + 1\n",
    "BATCH_SIZE = 512\n",
    "STEPS_PER_EPOCH = DATA_LEN // BATCH_SIZE\n",
    "INTERMEDIATE_DIM = 128\n",
    "LATENT_DIM = 32\n",
    "EPOCHS = 10\n",
    "reload_model = True\n",
    "        \n",
    "vae, encoder, decoder = build_model(\n",
    "    max_seq_len=MAX_SEQUENCE_LENGTH,\n",
    "    embedding_dim=EMBED_DIM,\n",
    "    token_count=WORD_COUNT,\n",
    "    batch_size=BATCH_SIZE,\n",
    "    intermediate_dim=INTERMEDIATE_DIM,\n",
    "    latent_dim=LATENT_DIM,\n",
    "    epsilon_std=0.1\n",
    ")\n",
    "\n",
    "if reload_model:\n",
    "    vae.load_weights('old_bestmodel.weights.hdf5')"
   ]
  },
  {
   "cell_type": "code",
   "execution_count": 14,
   "metadata": {
    "scrolled": false
   },
   "outputs": [
    {
     "data": {
      "image/png": "[encoded data removed]",
      "text/plain": [
       "<IPython.core.display.Image object>"
      ]
     },
     "execution_count": 14,
     "metadata": {
      "image/png": {
       "height": 479,
       "width": 387
      }
     },
     "output_type": "execute_result"
    }
   ],
   "source": [
    "plot_model(vae, show_shapes=True, show_layer_names=True, to_file='vae.png')\n",
    "Image(retina=True, filename='vae.png')"
   ]
  },
  {
   "cell_type": "code",
   "execution_count": 15,
   "metadata": {},
   "outputs": [
    {
     "name": "stdout",
     "output_type": "stream",
     "text": [
      "__________________________________________________________________________________________________\n",
      "Layer (type)                    Output Shape         Param #     Connected to                     \n",
      "==================================================================================================\n",
      "encoder_input (InputLayer)      (None, 256, 1)       0                                            \n",
      "__________________________________________________________________________________________________\n",
      "bidirectional_encoding_one (Bid (None, 256, 256)     133120      encoder_input[0][0]              \n",
      "__________________________________________________________________________________________________\n",
      "bidirectional_encoding_two (Bid (None, 128)          164352      bidirectional_encoding_one[0][0] \n",
      "__________________________________________________________________________________________________\n",
      "z_mean (Dense)                  (None, 32)           4128        bidirectional_encoding_two[0][0] \n",
      "__________________________________________________________________________________________________\n",
      "z_log_var (Dense)               (None, 32)           4128        bidirectional_encoding_two[0][0] \n",
      "__________________________________________________________________________________________________\n",
      "latent (Lambda)                 (None, 32)           0           z_mean[0][0]                     \n",
      "                                                                 z_log_var[0][0]                  \n",
      "__________________________________________________________________________________________________\n",
      "repeated_context (RepeatVector) (None, 256, 32)      0           latent[0][0]                     \n",
      "__________________________________________________________________________________________________\n",
      "lstm_decoding_one (LSTM)        (None, 256, 64)      24832       repeated_context[0][0]           \n",
      "__________________________________________________________________________________________________\n",
      "lstm_decoding_two (LSTM)        (None, 256, 128)     98816       lstm_decoding_one[0][0]          \n",
      "__________________________________________________________________________________________________\n",
      "decoded_mean (TimeDistributed)  (None, 256, 26)      3354        lstm_decoding_two[0][0]          \n",
      "==================================================================================================\n",
      "Total params: 432,730\n",
      "Trainable params: 432,730\n",
      "Non-trainable params: 0\n",
      "__________________________________________________________________________________________________\n"
     ]
    }
   ],
   "source": [
    "vae.summary()"
   ]
  },
  {
   "cell_type": "code",
   "execution_count": 16,
   "metadata": {},
   "outputs": [],
   "source": [
    "def complex_oh_encode(X_train, maxlen, num_words):\n",
    "    temp = np.zeros((X_train.shape[0], maxlen, num_words))\n",
    "    temp[\n",
    "        np.expand_dims(\n",
    "            np.arange(X_train.shape[0]), axis=0\n",
    "        ).reshape(\n",
    "            X_train.shape[0], 1\n",
    "        ), np.repeat(\n",
    "            np.array([np.arange(maxlen)]), X_train.shape[0], axis=0\n",
    "        ), X_train\n",
    "    ] = 1\n",
    "    return temp"
   ]
  },
  {
   "cell_type": "code",
   "execution_count": 17,
   "metadata": {},
   "outputs": [],
   "source": [
    "# Will need this when we get the model working.\n",
    "def batch_generator(X, batch_size, max_seq_len, num_words):\n",
    "    indices = np.arange(len(X)) \n",
    "    batch=[]\n",
    "    while True:\n",
    "        np.random.shuffle(indices) \n",
    "        for i in indices:\n",
    "            batch.append(i)\n",
    "            if len(batch)==batch_size:\n",
    "                train = X[batch].reshape((batch_size, max_seq_len, 1))\n",
    "                yield train, complex_oh_encode(X[batch], maxlen=max_seq_len, num_words=num_words)\n",
    "                batch=[]"
   ]
  },
  {
   "cell_type": "code",
   "execution_count": 18,
   "metadata": {
    "scrolled": false
   },
   "outputs": [
    {
     "name": "stdout",
     "output_type": "stream",
     "text": [
      "WARNING:tensorflow:From /home/das-hund/.conda/envs/notebook/lib/python3.7/site-packages/tensorflow/python/ops/math_ops.py:3066: to_int32 (from tensorflow.python.ops.math_ops) is deprecated and will be removed in a future version.\n",
      "Instructions for updating:\n",
      "Use tf.cast instead.\n",
      "Epoch 1/10\n",
      "950/950 [==============================] - 1134s 1s/step - loss: 25.9651 - acc: 0.3833\n",
      "\n",
      "Epoch 00001: loss improved from inf to 25.96506, saving model to old_bestmodel.weights.hdf5\n",
      "Epoch 2/10\n",
      "950/950 [==============================] - 1131s 1s/step - loss: 25.9506 - acc: 0.3836\n",
      "\n",
      "Epoch 00002: loss improved from 25.96506 to 25.95058, saving model to old_bestmodel.weights.hdf5\n",
      "Epoch 3/10\n",
      "950/950 [==============================] - 1131s 1s/step - loss: 25.9694 - acc: 0.3836\n",
      "\n",
      "Epoch 00003: loss did not improve from 25.95058\n",
      "Epoch 4/10\n",
      "950/950 [==============================] - 1131s 1s/step - loss: 25.8839 - acc: 0.3861\n",
      "\n",
      "Epoch 00004: loss improved from 25.95058 to 25.88393, saving model to old_bestmodel.weights.hdf5\n",
      "Epoch 5/10\n",
      "950/950 [==============================] - 1131s 1s/step - loss: 25.9894 - acc: 0.3847\n",
      "\n",
      "Epoch 00005: loss did not improve from 25.88393\n",
      "Epoch 6/10\n",
      "950/950 [==============================] - 1131s 1s/step - loss: 25.9327 - acc: 0.3864\n",
      "\n",
      "Epoch 00006: loss did not improve from 25.88393\n",
      "\n",
      "Epoch 00006: ReduceLROnPlateau reducing learning rate to 0.00010000000474974513.\n",
      "Epoch 7/10\n",
      "950/950 [==============================] - 1132s 1s/step - loss: 25.8580 - acc: 0.3887\n",
      "\n",
      "Epoch 00007: loss improved from 25.88393 to 25.85797, saving model to old_bestmodel.weights.hdf5\n",
      "Epoch 8/10\n",
      "950/950 [==============================] - 1130s 1s/step - loss: 25.8187 - acc: 0.3901\n",
      "\n",
      "Epoch 00008: loss improved from 25.85797 to 25.81870, saving model to old_bestmodel.weights.hdf5\n",
      "Epoch 9/10\n",
      "950/950 [==============================] - 1130s 1s/step - loss: 25.7468 - acc: 0.3922\n",
      "\n",
      "Epoch 00009: loss improved from 25.81870 to 25.74675, saving model to old_bestmodel.weights.hdf5\n",
      "Epoch 10/10\n",
      "950/950 [==============================] - 1131s 1s/step - loss: 25.8811 - acc: 0.3883\n",
      "\n",
      "Epoch 00010: loss did not improve from 25.74675\n"
     ]
    }
   ],
   "source": [
    "# TODO: Add metrics for KL Div & Expectation\n",
    "fit_model = True\n",
    "fit_generator = True\n",
    "\n",
    "if fit_model:\n",
    "    checkpoint = ModelCheckpoint(\n",
    "        'old_bestmodel.weights.hdf5', monitor='loss',\n",
    "        verbose=1, save_best_only=True, mode='min'\n",
    "    )\n",
    "    ## change to monitor loss\n",
    "    reduce_lr = ReduceLROnPlateau(\n",
    "        monitor='loss', patience=2, \n",
    "        min_lr=0.0001, verbose=1\n",
    "    )\n",
    "    callbacks_list = [checkpoint, reduce_lr]\n",
    "    if fit_generator:\n",
    "        train_generator = batch_generator(\n",
    "            X=padded_sequences, \n",
    "            batch_size=BATCH_SIZE,\n",
    "            max_seq_len=MAX_SEQUENCE_LENGTH,\n",
    "            num_words=WORD_COUNT\n",
    "        )\n",
    "        history = vae.fit_generator(\n",
    "            train_generator, \n",
    "            steps_per_epoch=STEPS_PER_EPOCH, \n",
    "            epochs=EPOCHS,\n",
    "            callbacks=callbacks_list\n",
    "        )\n",
    "    else:\n",
    "        trainX = padded_sequences.reshape(\n",
    "            (DATA_LEN, MAX_SEQ_LEN, 1)\n",
    "        )\n",
    "        trainY = complex_oh_encode(\n",
    "            padded_sequences, \n",
    "            maxlen=MAX_SEQ_LEN, \n",
    "            num_words=WORD_COUNT\n",
    "        )\n",
    "        history = model.fit(\n",
    "            trainX, trainY,\n",
    "            batch_size=BATCH_SIZE,\n",
    "            epochs=EPOCHS,\n",
    "            callbacks=callbacks_list\n",
    "        )"
   ]
  },
  {
   "cell_type": "code",
   "execution_count": 19,
   "metadata": {},
   "outputs": [],
   "source": [
    "use_saved_model = True\n",
    "if use_saved_model:\n",
    "    vae.load_weights('old_bestmodel.weights.hdf5')"
   ]
  },
  {
   "cell_type": "code",
   "execution_count": 20,
   "metadata": {},
   "outputs": [],
   "source": [
    "predictors = padded_sequences.reshape((DATA_LEN, 256, 1))\n",
    "preds = vae.predict(predictors[0:10])\n"
   ]
  },
  {
   "cell_type": "code",
   "execution_count": 27,
   "metadata": {},
   "outputs": [
    {
     "name": "stdout",
     "output_type": "stream",
     "text": [
      "l l t f t g s g p i g w d m k a r a g k k k v v m e l g g n a p c i v d d y v p d l d y t i q r l i n g g f y q g g q s c i h m q r l y v h e r l y d e v k e g f v a a v k k l k m g n p f e e d t y l g p m i s e s a a k g i e d w v k e a v a k g g k l l t g g n r k g a f i e p t v i e d v p i e a n a r k e e i f g p v v l l y k y s d f k e a v k e c n n t h y g l q s g i f t k d l n k a f y a f e h m e v g g v i l n d s p a l r v d s q p y g g l k d s g i q r e g v k y a m d d m l e t k v l v m r n v g t l\n",
      "\n",
      "s s h r k r k f s d a f\n",
      "\n",
      "v v g v l l g s w q k k v l d v s n s f a v p f d e d d k d d s v w f l d h d y l e n m y g m f k k v n a r e r i v g w y h t g p k l h k n d i a i n e l m k r y c p n s v l v i i d v k p k d l g l p t e a y i s v e e v h d d g t p t s k t f e h v t s e i g a e e a e e v g v e h l l r d i k d t t v g t l s q r i t n q v h g l k g l n s k l l d i r s y l e k v a t g k l p i n h q i i y q l q d v f n l l p d v s l q e f v k a f y l k t n d q m v v v y l a s l i r s v v a l h n l i n n k i a n r d a e k k e g\n",
      "\n",
      "v s p q e g c t y c h d e n n l a s e a k y p y v v a r r m l e m t r a i n t n w t q h v a q t g v t c y t c h r g t p l p p y v r y l e p t l p l n n r e t p t h v e r v e t r s g y v v r l a k y t a y s a l n y d p f t m f l a n d k r q v r v v p q t a l p l v g v s r g k e r r p l s d a y a t f a l m m s i s d s l g t n c t f c h n a q t f e s w g k k s t p q r a i a w w g i r m v r d l n m n y l a p l n a s l p a s r l g r q g e a p q a d c r t c h q g v t k p l f g a s r l k d y p e l g p i k a a a k\n",
      "\n",
      "a t l t g g t v i s e e i g m e l e k a t l e d l g q a k r v v i n k d t t t i i d g v g e e a a i q g r v a q i r q q i e e a t s d y d r e k l q e r v a k l a g g v a v i k v g a a t e v e m k e k k a r v e d a l h a t r a a v e e g v v a g g g v a l i r v a s k l a d l r g q n e d q n v g i k v a l r a m e a p l r q i v l n c g e e p s v v a n t v k g g d g n y g y n a a t e e y g n m i d m g i l d p t k v t r s a l q y a a s v a g l m i t t e c m v t d l p k n d a a d l g a a g g m g g m g g m g g m m\n",
      "\n",
      "h n f e e g g g v a m g m y n q d k s i e d f a h s s f q m a l s k g w p l y l s t k n t i l k k y d g r f k d i f q e i y d k q y k s q f e a q k i w y e h r l i d d m v a q a m k s e g g f i w a c k n y d g d v q s d s v a q g y g s l g m m t s v l v c p d g k t v e a e a a h g t v t r h y r m y q k g q e t s t n p i a s i f a w t r g l a h r a k l d n n k e l a f f a n a l e e v s i e t i e a g f m t k d l a a c i k g l p n v q r s d y l n t f e f m d k l g e n l k i k l a q a k l s l e h h h h h h h h\n",
      "\n",
      "m p k k t i y f g a g w r t d r q n k a y k e a m e a l k e n p t i d l e n s y v p l d n q y k g i r v d e h p e y l h d k v w a t a t y n n d l n g i k t n d i m l g v y i p d e q g t g l g m e l g y a l s q g k y v l l v i p d e d y g k p i s l m s w g v s d n v i k m s q l k d f n f n k p r f d f y e g a v y\n",
      "\n",
      "d a g v d v l v v d t a h a h n r l v l d m v g k l k s e v g d r v e v v g g n v a t r s a a a a l v d a g a d a v k v g v g p g s i c t t r v v a g v g a p q i t a i l e a v a a c r p a g v p v i a d g g l q y s g d i a k a l a a g a s t a m l g s l l a g t a e a p g e l i f v n g k q y k s y r g m g s l g a m r g r g g a t s y s k d r y f a d d a l s e d k l v p e g i e g r v p f r g p l s s v i h q l t g g l r a a m g y t g s p t i e v l q q a q f v r i t p a g l k e s h p h d v a m t v e a p n y y a r\n",
      "\n",
      "a i l g r s e t q e c l f f n a n w e k d r t n q t g v e p c y g d k d k r r h c f a t w k n i s g s i e i v k q g c w l d d i n c y d r t d c v e k k d s p e v y f c c c e g n m c n e k f s y f p e m e v t q p t s n p v t p k p p e f r h d s\n",
      "\n"
     ]
    }
   ],
   "source": [
    "for j in range(9):\n",
    "    print(' '.join([\n",
    "        index_to_word[i] if i != 0 else ''\n",
    "        for i in padded_sequences[j]\n",
    "    ]).strip())\n",
    "    print()"
   ]
  },
  {
   "cell_type": "code",
   "execution_count": 24,
   "metadata": {},
   "outputs": [
    {
     "name": "stdout",
     "output_type": "stream",
     "text": [
      "g l f t s g g g v v e g g g g g v v v v v g g g g g g g l l l l l l l l l l l l l l l l l l l l l l l l l l l l l l l l l l l l l l l l l l l l l l l l l l l l l l l l l l l l l l l l l l l l l l l l l l l l l l l l l l l l l l l l l l l l l l l l l l l l l l l l l l l l l l l l l l l l l l l l l l l l l l l l l l l l l l l l l l l l l l l l l l l l l l l l l l l l l l l l l l l l l l l l l l l l l l l l l l l l l l l l l l l l l l l l l l l l l l l l l l l l l l l l l l l l l l l l l l l l l l l l l l l l\n",
      "\n",
      "t t t t t t t t t t s s\n",
      "\n",
      "s v v g l l s l l l l l l l l l l l l l l l l l l l l l l l l l l l l l l l l l l l l l l l l l l l l l l l l l l l l l l l l l l l l l l l l l l l l l l l l l l l l l l l l l l l l l l l l l l l l l l l l l l l l l l l l l l l l l l l l l l l l l l l l l l l l l l l l l l l l l l l l l l l l l l l l l l l l l l l l l l l l l l l l l l l l l l l l l l l l l l l l l l l l l l l l l l l l l l l l l l l l l l l l l l l l l l l l l l l l l l l l l l l l l l l l l l l l l l l l l l l l l l l l l l l l l l l l l\n",
      "\n",
      "g s r r r g g g d d d d g g g g g d l l l l l l l l a a a a a a a a a a a a a a a a a a a a a a a a a a a a a a a a a a a a a a a a a a a a a a a a a a a a a a a a a a a a a a a a a a a a a a a a a a a a a a a a a a a a a a a a a a a a a a a a a a a a a a a a a a a a a a a a a a a a a a a a a a a a a a a a a a a a a a a a a a a a a a a a a a a a a a a a a a a a a a a a a a a a a a a a a a a a a a a a a a a a a a a a a a a a a a a a a a a a a a a a a a a a a a a a a a a a a a a a a a a a a a a a a a a a a a\n",
      "\n",
      "a s l v g g g g g g g g g g g g g v v v v a a a a a a a a a a a a a a a a a a a a a a a a a a a a a a a a a a a a a a a a a a a a a a a a a a a a a a a a a a a a a a a a a a a a a a a a a a a a a a a a a a a a a a a a a a a a a a a a a a a a a a a a a a a a a a a a a a a a a a a a a a a a a a a a a a a a a a a a a a a a a a a a a a a a a a a a a a a a a a a a a a a a a a a a a a a a a a a a a a a a a a a a a a a a a a a a a a a a a a a a a a a a a a a a a a a a a a a a a a a a a a a a a a a a a a a a a a a\n",
      "\n",
      "r q r e g v v v g g g g g a a a a a a a a a a a a a a a a a a a a a a a a a a a a a a a a a a a a a a a a a a a a a a a a a a a a a a a a a a a a a a a a a a a a a a a a a a a a a a a a a a a a a a a a a a a a a a a a a a a a a a a a a a a a a a a a a a a a a a a a a a a a a a a a a a a a a a a a a a a a a a a a a a a a a a a a a a a a a a a a a a a a a a a a a a a a a a a a a a a a a a a a a a a a a a a a a a a a a a a a a a a a a a a a a a h h h h h h h h h h h h h h h h h h h h h h h h h h h h h h h h h\n",
      "\n",
      "m s s l l k k k l l l l l l l l l l l l l l l l l l l l l l l l l l l l l l l l l l l l l l l l l l l l l l l l l l l l l l l l l l l l l l l l l l l l l l l l l l l l l l l l l l l l l l l l l l l l l l l l l l l l l l l l l l l l l l l l l l l l l l l l l l l l l l l l l l l l l l l l l l l l l l l l l l l l l\n",
      "\n",
      "r a l t v g a a a a a a a a a a a a a a a a a a a a a a a a a a a a a a a a a a a a a a a a a a a a a a a a a a a a a a a a a a a a a a a a a a a a a a a a a a a a a a a a a a a a a a a a a a a a a a a a a a a a a a a a a a a a a a a a a a a a a a a a a a a a a a a a a a a a a a a a a a a a a a a a a a a a a a a a a a a a a a a a a a a a a a a a a a a a a a a a a a a a a a a a a a a a a a a a a a a a a a a a a a a a a a a a a a a a a a a a a a a a a a a a a a a a a a a a a a a a a a a a a a a a a a a a a a\n",
      "\n",
      "v s s s q q q k k s s s s s s s s s s s s s s s s s s s s s s s s s s s s s s s s s s s s s s s s s s s s s s s s s s s s s s s s s s s s s s s s s s s s s s s s s s s k k k k k k k k k k k k k k k k k k k k k k k k k k k k k k k k k k k k k k\n",
      "\n"
     ]
    }
   ],
   "source": [
    "for i in range(9):\n",
    "    pred_chars = [np.argmax(l) for l in preds[i]]\n",
    "    print(' '.join([\n",
    "        index_to_word[i] if i != 0 else '' \n",
    "        for i in pred_chars\n",
    "    ]).strip())\n",
    "    print()"
   ]
  },
  {
   "cell_type": "code",
   "execution_count": null,
   "metadata": {},
   "outputs": [],
   "source": [
    "#vae.save('vae.h5')\n",
    "#encoder.save('encoder.h5')\n",
    "#decoder.save('decoder.h5')"
   ]
  },
  {
   "cell_type": "code",
   "execution_count": null,
   "metadata": {},
   "outputs": [],
   "source": [
    "# Padding\n",
    "# Attention\n",
    "# KL Cost Annealing"
   ]
  }
 ],
 "metadata": {
  "kernelspec": {
   "display_name": "Python 3",
   "language": "python",
   "name": "python3"
  },
  "language_info": {
   "codemirror_mode": {
    "name": "ipython",
    "version": 3
   },
   "file_extension": ".py",
   "mimetype": "text/x-python",
   "name": "python",
   "nbconvert_exporter": "python",
   "pygments_lexer": "ipython3",
   "version": "3.7.3"
  }
 },
 "nbformat": 4,
 "nbformat_minor": 2
}
